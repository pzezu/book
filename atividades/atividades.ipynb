{
 "cells": [
  {
   "cell_type": "markdown",
   "metadata": {},
   "source": [
    "### Ativididades PT 1"
   ]
  },
  {
   "attachments": {},
   "cell_type": "markdown",
   "metadata": {},
   "source": [
    "5 - Faça um programa que leia um número inteiro e mostre na tela seu sucessor e seu antecessor.\n",
    "\n",
    "6 - Crie um algoritmo que leia um numero e mostre o seu dobro, triplo e raiz quadrada.\n",
    "\n",
    "7 - Desenvolva um programa que leia as duas notas de um aluno, calcule e mostre sua media.\n",
    "\n",
    "8 - Escreve um programa que leia um valor em metros e exiba convertido em centimetros e milimetros\n",
    "\n",
    "9 - Leia um numero inteiro qualquer e mostre na tela sua tabuada.\n",
    "\n",
    "10 - Leia quanto dinheiro tem na carteira e mostre quantos dolares ela pode comprar. considere 1 USD = 3,27 BRL\n",
    "\n",
    "11 - Leia a largura e altura de uma parede em metros, calcula a sua area e a quantidade de tinta necessaria para pintar, considere 1 ML TINTA = 2 m2\n",
    "\n",
    "12 - Leia o preço de um produto e mostre seu novo preço com x% de desconto.\n",
    "\n",
    "13 - Leia o salário e mostre seu novo salario, com x% de aumento.\n",
    "\n"
   ]
  }
 ],
 "metadata": {
  "language_info": {
   "name": "python"
  },
  "orig_nbformat": 4
 },
 "nbformat": 4,
 "nbformat_minor": 2
}
