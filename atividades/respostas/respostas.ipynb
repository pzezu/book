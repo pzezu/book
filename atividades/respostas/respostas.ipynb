{
 "cells": [
  {
   "cell_type": "markdown",
   "metadata": {},
   "source": [
    "### Ativididades PT 1"
   ]
  },
  {
   "attachments": {},
   "cell_type": "markdown",
   "metadata": {},
   "source": [
    "5 - Faça um programa que leia um número inteiro e mostre na tela seu sucessor e seu antecessor.\n",
    "\n",
    "6 - Crie um algoritmo que leia um numero e mostre o seu dobro, triplo e raiz quadrada.\n",
    "\n",
    "7 - Desenvolva um programa que leia as duas notas de um aluno, calcule e mostre sua media.\n",
    "\n",
    "8 - Escreve um programa que leia um valor em metros e exiba convertido em centimetros e milimetros\n",
    "\n",
    "9 - Leia um numero inteiro qualquer e mostre na tela sua tabuada.\n",
    "\n",
    "10 - Leia quanto dinheiro tem na carteira e mostre quantos dolares ela pode comprar. considere 1 USD = 3,27 BRL\n",
    "\n",
    "11 - Leia a largura e altura de uma parede em metros, calcula a sua area e a quantidade de tinta necessaria para pintar, considere 1 ML TINTA = 2 m2\n",
    "\n",
    "12 - Leia o preço de um produto e mostre seu novo preço com x% de desconto.\n",
    "\n",
    "13 - Leia o salário e mostre seu novo salario, com x% de aumento.\n",
    "\n"
   ]
  },
  {
   "cell_type": "code",
   "execution_count": null,
   "metadata": {},
   "outputs": [],
   "source": []
  },
  {
   "cell_type": "code",
   "execution_count": null,
   "metadata": {},
   "outputs": [],
   "source": [
    "#11 - Leia a largura e altura de uma parede em metros, calcula a sua area e a quantidade de tinta necessaria para pintar, considere 1 ML TINTA = 2 m2\n",
    "l = float(input('Digite o valor de dinheiro: '))\n",
    "a = float(input('Digite o valor de dinheiro: '))\n",
    "m2 = a * l\n",
    "t = m2 / 2\n",
    "print(\"Para pintar uma parede de {} de altura por {} de largura, com {}m2 é preciso de {}ml de tinta\".format(a, l, m2, t))"
   ]
  },
  {
   "cell_type": "code",
   "execution_count": null,
   "metadata": {},
   "outputs": [],
   "source": [
    "#10 - Leia quanto dinheiro tem na carteira e mostre quantos dolares ela pode comprar. considere 1 USD = 3,27 BRL\n",
    "\n",
    "d = float(input('Digite o valor de dinheiro: '))\n",
    "usd = 3.27\n",
    "c = d/usd\n",
    "print(\"Com {} reais voce consegue comprar {} dolares na cotação de {}.\".format(d, c, usd))"
   ]
  },
  {
   "cell_type": "code",
   "execution_count": null,
   "metadata": {},
   "outputs": [],
   "source": [
    "numero = int(input(\"Digite um número para ver a tabuada: \"))\n",
    "print(f\"Tabuada do {numero}:\")\n",
    "\n",
    "print(\"+----------+----------+\")\n",
    "print(\"|  Número  |  Result  |\")\n",
    "print(\"+----------+----------+\")\n",
    "\n",
    "for i in range(1, 11):\n",
    "    resultado = numero * i\n",
    "    print(f\"|    {i:2d}    |    {resultado:2d}    |\")\n",
    "    print(\"+----------+----------+\")\n"
   ]
  },
  {
   "cell_type": "code",
   "execution_count": null,
   "metadata": {},
   "outputs": [],
   "source": [
    "#9 - Leia um numero inteiro qualquer e mostre na tela sua tabuada.\n",
    "n = int(input('Digite o valor do numero que deseja ver a tabuada: '))\n"
   ]
  },
  {
   "cell_type": "code",
   "execution_count": null,
   "metadata": {},
   "outputs": [],
   "source": [
    "#8 - Escreve um programa que leia um valor em metros e exiba convertido em centimetros e milimetros\n",
    "m = int(input('Digite o valor em metros: '))\n",
    "c = m * 100\n",
    "mi = m * 1000\n",
    "print(\"Em {} metros temos {} centimetros e {} milimetros\".format(m, c, mi))"
   ]
  },
  {
   "cell_type": "code",
   "execution_count": null,
   "metadata": {},
   "outputs": [],
   "source": [
    "#Faça um programa que leia um número inteiro e mostre na tela seu sucessor e seu antecessor.\n",
    "\n",
    "n = int(input('Digite o numero: '))\n",
    "a = n - 1\n",
    "s = n + 1\n",
    "print(\"O sucessor do numero {}, é {} e o antecessor é {}\".format(n, s, a))"
   ]
  },
  {
   "cell_type": "code",
   "execution_count": null,
   "metadata": {},
   "outputs": [],
   "source": [
    "#6 - Crie um algoritmo que leia um numero e mostre o seu dobro, triplo e raiz quadrada.\n",
    "\n",
    "n = float(input('Digite o numero: '))\n",
    "d = n * 2\n",
    "t = n * 3\n",
    "rq = n ** (1/2)\n",
    "print(\"Analisando o numero {}, seu dobro é {}, seu triplo é {} e sua raiz quadrada é de {:.2f}\".format(n, d, t, rq))\n"
   ]
  },
  {
   "cell_type": "code",
   "execution_count": null,
   "metadata": {},
   "outputs": [],
   "source": [
    "#7 - Desenvolva um programa que leia as duas notas de um aluno, calcule e mostre sua media.\n",
    "\n",
    "n1 = float(input('Digite sua 1 nota aqui: '))\n",
    "n2 = float(input('Digite sua 1 nota aqui: '))\n",
    "m = (n1 + n2)/2\n",
    "print(\"A média dos valores de {:.2f} e {:.2f} é {:.2f}\".format(n1, n2, m))\n"
   ]
  }
 ],
 "metadata": {
  "language_info": {
   "name": "python"
  },
  "orig_nbformat": 4
 },
 "nbformat": 4,
 "nbformat_minor": 2
}
