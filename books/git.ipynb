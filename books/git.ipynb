{
 "cells": [
  {
   "attachments": {},
   "cell_type": "markdown",
   "metadata": {},
   "source": [
    "# Terminal e Jupyter Notebook\n",
    "É possivel executar comandos de terminal no Jupyter Notebook utilizando a sintaxe do sistema de arquivos. Isso é feito prefixando o comando com um ponto de exclamação (!). Por exemplo, para executar um comando git no Jupyter Notebook, você pode fazer o seguinte:"
   ]
  },
  {
   "attachments": {},
   "cell_type": "markdown",
   "metadata": {},
   "source": [
    "1. **Fork:** Um colaborador que deseja contribuir para um repositório cria uma cópia desse repositório em sua própria conta, o que é conhecido como um \"fork\". Isso permite que eles trabalhem em suas alterações sem afetar diretamente o repositório original.\n",
    "\n",
    "Issues: ?\n",
    "\n",
    "2. **Branch:** Dentro do fork, o colaborador cria uma ramificação (branch) separada para implementar suas alterações. Isso é importante para manter o trabalho isolado do código principal.\n",
    "\n",
    "3. **Commits:** O colaborador faz seus commits (gravações de alterações) na ramificação que criou, introduzindo suas alterações incrementalmente.\n",
    "\n",
    "4. **Pull Request:** Uma vez que o colaborador está satisfeito com suas alterações e acredita que elas estão prontas para serem incorporadas ao repositório principal, eles abrem um pull request. Isso significa que eles estão solicitando que os mantenedores do repositório original \"puxem\" ou incorporem suas alterações ao código principal. Durante a criação do pull request, é possível incluir comentários, explicações e discussões sobre as alterações propostas.\n",
    "\n",
    "5. **Revisão e Discussão:** Os mantenedores e outros colaboradores podem revisar o pull request, fazer comentários, sugerir alterações e discutir os detalhes. Essa é uma parte importante do processo de garantir a qualidade do código antes de ser mesclado.\n",
    "\n",
    "6. **Testes:** Dependendo do fluxo de trabalho, podem ser executados testes automatizados para garantir que as alterações propostas não causem problemas no código existente.\n",
    "\n",
    "7. **Merge:** Uma vez que os mantenedores (ou a pessoa com autoridade para fazer isso) estão satisfeitos com as alterações e consideram o pull request pronto, eles podem mesclar (merge) as alterações do pull request na ramificação principal do repositório.\n",
    "\n",
    "8. **Encerramento:** Após a mesclagem, o pull request é fechado. As alterações propostas agora fazem parte do código principal do repositório.\n",
    "\n",
    "O pull request é uma prática importante para a colaboração em projetos de código aberto e equipes de desenvolvimento, pois permite a revisão e discussão de alterações antes de serem incorporadas ao código principal, garantindo a qualidade do software e promovendo uma abordagem colaborativa."
   ]
  },
  {
   "attachments": {},
   "cell_type": "markdown",
   "metadata": {},
   "source": [
    "![Exemplo de Imagem](https://www.tomasbeuzen.com/post/git-fork-branch-pull/featured.png)"
   ]
  },
  {
   "attachments": {},
   "cell_type": "markdown",
   "metadata": {},
   "source": [
    "# O que é Git?\n",
    "Git é ...\n",
    "\n",
    "## O que é GitHub? Como utilizar?"
   ]
  },
  {
   "cell_type": "code",
   "execution_count": 1,
   "metadata": {},
   "outputs": [
    {
     "name": "stdout",
     "output_type": "stream",
     "text": [
      "Reinitialized existing Git repository in /Users/pzezu/Library/Mobile Documents/com~apple~CloudDocs/Coding/book/.git/\n"
     ]
    }
   ],
   "source": [
    "!git init"
   ]
  },
  {
   "cell_type": "code",
   "execution_count": null,
   "metadata": {},
   "outputs": [],
   "source": [
    "!git clone <URL_do_repositório>"
   ]
  },
  {
   "cell_type": "code",
   "execution_count": null,
   "metadata": {},
   "outputs": [],
   "source": [
    "!git log"
   ]
  },
  {
   "cell_type": "code",
   "execution_count": null,
   "metadata": {},
   "outputs": [],
   "source": [
    "!git diff"
   ]
  },
  {
   "cell_type": "code",
   "execution_count": 3,
   "metadata": {},
   "outputs": [
    {
     "name": "stdout",
     "output_type": "stream",
     "text": [
      "* \u001b[32mmain\u001b[m\n",
      "  master\u001b[m\n"
     ]
    }
   ],
   "source": [
    "!git branch"
   ]
  },
  {
   "cell_type": "code",
   "execution_count": null,
   "metadata": {},
   "outputs": [],
   "source": [
    "!git checkout"
   ]
  },
  {
   "cell_type": "code",
   "execution_count": null,
   "metadata": {},
   "outputs": [],
   "source": [
    "!git checkout -b"
   ]
  },
  {
   "attachments": {},
   "cell_type": "markdown",
   "metadata": {},
   "source": [
    "### Git marge nome-da-branch"
   ]
  },
  {
   "cell_type": "code",
   "execution_count": null,
   "metadata": {},
   "outputs": [],
   "source": [
    "!git marge"
   ]
  },
  {
   "cell_type": "code",
   "execution_count": null,
   "metadata": {},
   "outputs": [],
   "source": [
    "git status"
   ]
  },
  {
   "cell_type": "code",
   "execution_count": null,
   "metadata": {},
   "outputs": [],
   "source": [
    "!git add ."
   ]
  },
  {
   "cell_type": "code",
   "execution_count": null,
   "metadata": {},
   "outputs": [],
   "source": [
    "!git commit -m \"Adicionar novo notebook\"\n"
   ]
  },
  {
   "cell_type": "code",
   "execution_count": null,
   "metadata": {},
   "outputs": [],
   "source": [
    "!git remote add origin"
   ]
  },
  {
   "attachments": {},
   "cell_type": "markdown",
   "metadata": {},
   "source": [
    "# ?\n",
    "Nao faco ideia do que esse comando remote -v faz."
   ]
  },
  {
   "cell_type": "code",
   "execution_count": null,
   "metadata": {},
   "outputs": [],
   "source": [
    "!git remote -v"
   ]
  },
  {
   "cell_type": "code",
   "execution_count": null,
   "metadata": {},
   "outputs": [],
   "source": [
    "git remote set-url origin <URL_do_repositório>\n"
   ]
  },
  {
   "attachments": {},
   "cell_type": "markdown",
   "metadata": {},
   "source": [
    "# Commit\n",
    "Acho que serve para fazer o commit"
   ]
  },
  {
   "cell_type": "code",
   "execution_count": 2,
   "metadata": {},
   "outputs": [
    {
     "name": "stdout",
     "output_type": "stream",
     "text": [
      "[main ed9ca35] Adicionar novo notebook\n",
      " 2 files changed, 779 insertions(+), 114 deletions(-)\n",
      "fatal: 'origin' does not appear to be a git repository\n",
      "fatal: Could not read from remote repository.\n",
      "\n",
      "Please make sure you have the correct access rights\n",
      "and the repository exists.\n"
     ]
    }
   ],
   "source": [
    "!git add .\n",
    "!git commit -m \"Adicionar novo notebook\"\n",
    "!git push origin main\n"
   ]
  },
  {
   "cell_type": "code",
   "execution_count": 3,
   "metadata": {},
   "outputs": [],
   "source": [
    "!git add .\n"
   ]
  },
  {
   "cell_type": "code",
   "execution_count": 4,
   "metadata": {},
   "outputs": [
    {
     "name": "stdout",
     "output_type": "stream",
     "text": [
      "On branch main\n",
      "Your branch is ahead of 'python_book/main' by 1 commit.\n",
      "  (use \"git push\" to publish your local commits)\n",
      "\n",
      "nothing to commit, working tree clean\n"
     ]
    }
   ],
   "source": [
    "!git commit -m \"Adicionar novo notebook\"\n"
   ]
  },
  {
   "cell_type": "code",
   "execution_count": 5,
   "metadata": {},
   "outputs": [
    {
     "name": "stdout",
     "output_type": "stream",
     "text": [
      "fatal: 'origin' does not appear to be a git repository\n",
      "fatal: Could not read from remote repository.\n",
      "\n",
      "Please make sure you have the correct access rights\n",
      "and the repository exists.\n"
     ]
    }
   ],
   "source": [
    "!git push origin main\n"
   ]
  }
 ],
 "metadata": {
  "kernelspec": {
   "display_name": "Python 3",
   "language": "python",
   "name": "python3"
  },
  "language_info": {
   "codemirror_mode": {
    "name": "ipython",
    "version": 3
   },
   "file_extension": ".py",
   "mimetype": "text/x-python",
   "name": "python",
   "nbconvert_exporter": "python",
   "pygments_lexer": "ipython3",
   "version": "3.11.1"
  },
  "orig_nbformat": 4
 },
 "nbformat": 4,
 "nbformat_minor": 2
}
