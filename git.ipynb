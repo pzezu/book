{
 "cells": [
  {
   "attachments": {},
   "cell_type": "markdown",
   "metadata": {},
   "source": [
    "# Terminal e Jupyter Notebook\n",
    "É possivel executar comandos de terminal no Jupyter Notebook utilizando a sintaxe do sistema de arquivos. Isso é feito prefixando o comando com um ponto de exclamação (!). Por exemplo, para executar um comando git no Jupyter Notebook, você pode fazer o seguinte:"
   ]
  },
  {
   "attachments": {},
   "cell_type": "markdown",
   "metadata": {},
   "source": [
    "1. **Fork:** Um colaborador que deseja contribuir para um repositório cria uma cópia desse repositório em sua própria conta, o que é conhecido como um \"fork\". Isso permite que eles trabalhem em suas alterações sem afetar diretamente o repositório original.\n",
    "\n",
    "Issues: ?\n",
    "\n",
    "2. **Branch:** Dentro do fork, o colaborador cria uma ramificação (branch) separada para implementar suas alterações. Isso é importante para manter o trabalho isolado do código principal.\n",
    "\n",
    "3. **Commits:** O colaborador faz seus commits (gravações de alterações) na ramificação que criou, introduzindo suas alterações incrementalmente.\n",
    "\n",
    "4. **Pull Request:** Uma vez que o colaborador está satisfeito com suas alterações e acredita que elas estão prontas para serem incorporadas ao repositório principal, eles abrem um pull request. Isso significa que eles estão solicitando que os mantenedores do repositório original \"puxem\" ou incorporem suas alterações ao código principal. Durante a criação do pull request, é possível incluir comentários, explicações e discussões sobre as alterações propostas.\n",
    "\n",
    "5. **Revisão e Discussão:** Os mantenedores e outros colaboradores podem revisar o pull request, fazer comentários, sugerir alterações e discutir os detalhes. Essa é uma parte importante do processo de garantir a qualidade do código antes de ser mesclado.\n",
    "\n",
    "6. **Testes:** Dependendo do fluxo de trabalho, podem ser executados testes automatizados para garantir que as alterações propostas não causem problemas no código existente.\n",
    "\n",
    "7. **Merge:** Uma vez que os mantenedores (ou a pessoa com autoridade para fazer isso) estão satisfeitos com as alterações e consideram o pull request pronto, eles podem mesclar (merge) as alterações do pull request na ramificação principal do repositório.\n",
    "\n",
    "8. **Encerramento:** Após a mesclagem, o pull request é fechado. As alterações propostas agora fazem parte do código principal do repositório.\n",
    "\n",
    "O pull request é uma prática importante para a colaboração em projetos de código aberto e equipes de desenvolvimento, pois permite a revisão e discussão de alterações antes de serem incorporadas ao código principal, garantindo a qualidade do software e promovendo uma abordagem colaborativa."
   ]
  },
  {
   "attachments": {},
   "cell_type": "markdown",
   "metadata": {},
   "source": [
    "![Exemplo de Imagem](https://www.tomasbeuzen.com/post/git-fork-branch-pull/featured.png)"
   ]
  },
  {
   "attachments": {},
   "cell_type": "markdown",
   "metadata": {},
   "source": [
    "# O que é Git?\n",
    "Git é ...\n",
    "\n",
    "## O que é GitHub? Como utilizar?"
   ]
  },
  {
   "cell_type": "code",
   "execution_count": null,
   "metadata": {},
   "outputs": [],
   "source": [
    "!git clone <URL_do_repositório>"
   ]
  },
  {
   "cell_type": "code",
   "execution_count": 1,
   "metadata": {},
   "outputs": [
    {
     "name": "stdout",
     "output_type": "stream",
     "text": [
      "\u001b[33mcommit c2ec8569108af5cf166f6b3feae7f98bc8f97988\u001b[m\u001b[33m (\u001b[m\u001b[1;36mHEAD -> \u001b[m\u001b[1;32mmain\u001b[m\u001b[33m, \u001b[m\u001b[1;31mpython_book/main\u001b[m\u001b[33m)\u001b[m\n",
      "Author: pzezu <pzezu@icloud.com>\n",
      "Date:   Fri Aug 25 01:58:12 2023 -0300\n",
      "\n",
      "    Mudanças de nomes de arquivos e afins.\n",
      "    adicionado um script para transformar o notebook em texto completo markdown.\n",
      "    Leitura deste markdown via obsidian.\n",
      "\n",
      "\u001b[33mcommit cafda1f5f2896f2de2527355b078f710fb588720\u001b[m\n",
      "Author: pzezu <pzezu@icloud.com>\n",
      "Date:   Fri Aug 25 01:41:29 2023 -0300\n",
      "\n",
      "    Adicionar novo notebook\n",
      "\n",
      "\u001b[33mcommit 197c9ca7c3e2c1787e0eb8211e12966004a9cf43\u001b[m\n",
      "Author: pzezu <pzezu@icloud.com>\n",
      "Date:   Thu Aug 24 13:16:11 2023 -0300\n",
      "\n",
      "    Adicionando git.ipynb e realizando testes.\n",
      "\n",
      "\u001b[33mcommit 9b7b2791a29db8a5e596c4d2a188796b23c74002\u001b[m\n",
      "Author: pzezu <pzezu@icloud.com>\n",
      "Date:   Thu Aug 24 13:11:52 2023 -0300\n",
      "\n",
      "    Adicionar novo notebook\n",
      "\n",
      "\u001b[33mcommit 224d522c9c473e25a61be96f9770727fc5fd6ae8\u001b[m\n",
      "Author: pzezu <pzezu@icloud.com>\n",
      "Date:   Thu Aug 24 13:09:55 2023 -0300\n",
      "\n",
      "    Adicionar novo notebook\n",
      "\n",
      "\u001b[33mcommit 36793d6b36da1972abe6544ccb3c4bb71dbc52e8\u001b[m\n",
      "Author: pzezu <pzezu@icloud.com>\n",
      "Date:   Thu Aug 24 13:09:15 2023 -0300\n",
      "\n",
      "    Adicionar novo notebook\n",
      "\n",
      "\u001b[33mcommit 5ea7f1e07318977a4d61c93bca9e77666134d8ea\u001b[m\n",
      "Author: pzezu <pzezu@icloud.com>\n",
      "Date:   Thu Aug 24 00:14:23 2023 -0300\n",
      "\n",
      "    Atualizado\n",
      "\n",
      "\u001b[33mcommit 02c68a22bb16ef929a0ee1f977450ad84f48593c\u001b[m\n",
      "Author: pzezu <pzezu@icloud.com>\n",
      "Date:   Wed Aug 23 18:12:14 2023 -0300\n",
      "\n",
      "    Atualizações\n",
      "\n",
      "\u001b[33mcommit b9f05dbf05bede14382e0206da86cd41407cd450\u001b[m\n",
      "Author: pzezu <pzezu@icloud.com>\n",
      "Date:   Wed Aug 23 16:51:50 2023 -0300\n",
      "\n",
      "    ?\n",
      "\n",
      "\u001b[33mcommit 6d1cb503e7781c511fc096cbe56c1e83e0a4a094\u001b[m\n",
      "Author: Pedro Alexandrino <94206928+pzezu@users.noreply.github.com>\n",
      "Date:   Wed Aug 23 16:42:20 2023 -0300\n",
      "\n",
      "    Initial commit\n"
     ]
    }
   ],
   "source": [
    "!git log"
   ]
  },
  {
   "cell_type": "code",
   "execution_count": null,
   "metadata": {},
   "outputs": [],
   "source": [
    "git status"
   ]
  },
  {
   "cell_type": "code",
   "execution_count": null,
   "metadata": {},
   "outputs": [],
   "source": [
    "!git init"
   ]
  },
  {
   "cell_type": "code",
   "execution_count": null,
   "metadata": {},
   "outputs": [],
   "source": [
    "!git add ."
   ]
  },
  {
   "cell_type": "code",
   "execution_count": null,
   "metadata": {},
   "outputs": [],
   "source": [
    "!git commit -m \"Adicionar novo notebook\"\n"
   ]
  },
  {
   "attachments": {},
   "cell_type": "markdown",
   "metadata": {},
   "source": [
    "# ?\n",
    "Nao faco ideia do que esse comando remote -v faz."
   ]
  },
  {
   "cell_type": "code",
   "execution_count": null,
   "metadata": {},
   "outputs": [],
   "source": [
    "!git remote -v"
   ]
  },
  {
   "cell_type": "code",
   "execution_count": null,
   "metadata": {},
   "outputs": [],
   "source": [
    "git remote set-url origin <URL_do_repositório>\n"
   ]
  },
  {
   "attachments": {},
   "cell_type": "markdown",
   "metadata": {},
   "source": [
    "# Commit\n",
    "Acho que serve para fazer o commit"
   ]
  },
  {
   "cell_type": "code",
   "execution_count": null,
   "metadata": {},
   "outputs": [],
   "source": [
    "!git add .\n",
    "!git commit -m \"Adicionar novo notebook\"\n",
    "!git push origin main\n"
   ]
  }
 ],
 "metadata": {
  "kernelspec": {
   "display_name": "Python 3",
   "language": "python",
   "name": "python3"
  },
  "language_info": {
   "codemirror_mode": {
    "name": "ipython",
    "version": 3
   },
   "file_extension": ".py",
   "mimetype": "text/x-python",
   "name": "python",
   "nbconvert_exporter": "python",
   "pygments_lexer": "ipython3",
   "version": "3.11.1"
  },
  "orig_nbformat": 4
 },
 "nbformat": 4,
 "nbformat_minor": 2
}
