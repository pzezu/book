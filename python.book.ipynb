{
 "cells": [
  {
   "attachments": {},
   "cell_type": "markdown",
   "metadata": {},
   "source": [
    "## Funcoes e Modulos\n",
    "Uma função em Python é um bloco de código nomeado que realiza uma tarefa específica. Ela pode receber argumentos (dados de entrada), processá-los e retornar um valor (dados de saída). As funções ajudam a modularizar o código, tornando-o mais legível, reutilizável e organizado.\n",
    "Em Python, existem três tipos principais de funções:\n",
    "\n",
    "- Funções Integradas (Built-in Functions): São funções que já vêm embutidas na linguagem e podem ser usadas diretamente sem a necessidade de importar módulos adicionais. Algumas funções integradas comuns incluem print(), len(), type(), int(), str(), entre outras. Elas fornecem funcionalidades básicas e essenciais para a programação em Python.\n",
    "\n",
    "- Funções Definidas pelo Usuário: São funções que você mesmo cria para realizar tarefas específicas. Você pode definir suas próprias funções usando a palavra-chave def e dar um nome significativo à função. As funções definidas pelo usuário podem receber argumentos, executar um bloco de código e retornar valores.\n",
    "\n",
    "- Funções de Bibliotecas (Library Functions): Essas são funções que não fazem parte do núcleo da linguagem, mas estão disponíveis em bibliotecas (módulos) específicas. Para usar essas funções, você precisa importar o módulo relevante. Exemplos incluem as funções matemáticas do módulo math, as funções de manipulação de arquivos do módulo os, etc."
   ]
  },
  {
   "attachments": {},
   "cell_type": "markdown",
   "metadata": {},
   "source": [
    "teste"
   ]
  },
  {
   "attachments": {},
   "cell_type": "markdown",
   "metadata": {},
   "source": [
    "Além desses três tipos principais, algumas funções têm propriedades especiais:\n",
    "\n",
    "- Funções Anônimas (Lambda Functions): São funções pequenas e sem nome que podem ser usadas para operações simples. Elas são definidas usando a palavra-chave lambda.\n",
    "\n",
    "- Funções Recursivas: São funções que chamam a si mesmas em seu próprio processo. São úteis para resolver problemas que podem ser divididos em subproblemas semelhantes.\n",
    "\n",
    "- Funções Geradoras (Generator Functions): São funções especiais que retornam um gerador, permitindo a criação de sequências de valores sob demanda, economizando memória.\n",
    "\n",
    "Cada tipo de função tem seu próprio propósito e uso. As funções integradas e as funções de bibliotecas fornecem uma ampla gama de funcionalidades prontas para uso, enquanto as funções definidas pelo usuário permitem que você crie código personalizado e modular para atender às suas necessidades específicas."
   ]
  },
  {
   "attachments": {},
   "cell_type": "markdown",
   "metadata": {},
   "source": [
    "## Variaveis\n",
    "- Variáveis em Python são usadas para armazenar valores. Elas são declaradas com um nome e podem conter diferentes tipos de dados, como números, strings e objetos. Atribuímos valores às variáveis usando o sinal de igual (=)."
   ]
  },
  {
   "cell_type": "code",
   "execution_count": null,
   "metadata": {},
   "outputs": [],
   "source": [
    "l = 'letra'\n",
    "n = 50"
   ]
  },
  {
   "attachments": {},
   "cell_type": "markdown",
   "metadata": {},
   "source": [
    "## Built-in Functions/Funções Embutidas\n",
    "As funções embutidas, também conhecidas como funções integradas ou built-in functions, são funções pré-definidas na linguagem de programação Python. Elas fazem parte do próprio Python e estão disponíveis para uso imediato, sem a necessidade de importar módulos adicionais. Essas funções são componentes essenciais da linguagem e oferecem funcionalidades básicas que são amplamente utilizadas em tarefas de programação comuns."
   ]
  },
  {
   "attachments": {},
   "cell_type": "markdown",
   "metadata": {},
   "source": [
    "### Funcoes Build in - Variaveis 1"
   ]
  },
  {
   "attachments": {},
   "cell_type": "markdown",
   "metadata": {},
   "source": [
    "#### print()\n",
    "A função print() é usada para exibir informações na saída padrão, que normalmente é o console onde você está executando o código. Ela aceita um ou mais argumentos separados por vírgulas e os exibe como texto na saída."
   ]
  },
  {
   "cell_type": "code",
   "execution_count": null,
   "metadata": {},
   "outputs": [],
   "source": [
    "print(n)\n",
    "print(l)"
   ]
  },
  {
   "cell_type": "code",
   "execution_count": null,
   "metadata": {},
   "outputs": [],
   "source": [
    "nome = \"Alice\"\n",
    "idade = 30\n",
    "print(\"Olá,\", nome, \"sua idade é\", idade)\n",
    "# Isso imprimirá: Olá, Alice sua idade é 30\n"
   ]
  },
  {
   "attachments": {},
   "cell_type": "markdown",
   "metadata": {},
   "source": [
    "É possivel utilizar tambem o /n para adicionar quebras ao print, por exemplo"
   ]
  },
  {
   "cell_type": "code",
   "execution_count": null,
   "metadata": {},
   "outputs": [],
   "source": [
    "# Usando o caractere especial \\n para criar quebras de linha\n",
    "linha1 = \"Esta é a linha 1.\"\n",
    "linha2 = \"Esta é a linha 2.\"\n",
    "linha3 = \"Esta é a linha 3.\"\n",
    "\n",
    "# Concatenando as linhas com \\n para criar um texto multilinha\n",
    "texto_multilinha = linha1 + \"\\n\" + linha2 + \"\\n\" + linha3\n",
    "\n",
    "# Imprimindo o texto multilinha\n",
    "print(texto_multilinha)\n"
   ]
  },
  {
   "attachments": {},
   "cell_type": "markdown",
   "metadata": {},
   "source": [
    "#### input()\n",
    "A função input() é usada para obter entradas do usuário. Ela exibe uma mensagem (prompt) na tela e espera que o usuário digite algo. Quando o usuário pressiona a tecla \"Enter\", o que foi digitado é retornado como uma **string**.\n",
    "- Lembre que valor retornado por input() é sempre uma string e precisa ser tratado."
   ]
  },
  {
   "cell_type": "code",
   "execution_count": 13,
   "metadata": {},
   "outputs": [
    {
     "name": "stdout",
     "output_type": "stream",
     "text": [
      "10\n"
     ]
    }
   ],
   "source": [
    "n = input(\"Digite um numero a ser exibida: \")\n",
    "print(n)"
   ]
  },
  {
   "cell_type": "code",
   "execution_count": null,
   "metadata": {},
   "outputs": [],
   "source": [
    "nome = input(\"Digite o seu nome: \")\n",
    "print(\"Olá,\", nome, \"! Bem-vindo!\")\n"
   ]
  },
  {
   "attachments": {},
   "cell_type": "markdown",
   "metadata": {},
   "source": [
    "#### format()\n",
    "A função format() é usada para formatar uma string, substituindo marcadores de posição (chamados de \"placeholders\") pelos valores especificados. Isso é especialmente útil quando você deseja criar strings complexas ou formatar saídas. Veja um exemplo:"
   ]
  },
  {
   "cell_type": "code",
   "execution_count": null,
   "metadata": {},
   "outputs": [],
   "source": [
    "nome = \"Alice\"\n",
    "idade = 30\n",
    "mensagem = \"Olá, {}. Você tem {} anos.\".format(nome, idade)\n",
    "print(mensagem)  # Isso imprimirá: Olá, Alice. Você tem 30 anos."
   ]
  },
  {
   "attachments": {},
   "cell_type": "markdown",
   "metadata": {},
   "source": [
    "É possivel utilizar tambem de formatacoes diferentes utilizando .format, como por exemplo:"
   ]
  },
  {
   "cell_type": "code",
   "execution_count": null,
   "metadata": {},
   "outputs": [],
   "source": [
    "nome = \"Alice\"\n",
    "idade = 30\n",
    "mensagem = \"Olá, {:.3f}. Você tem {:.2f} anos.\".format(nome, idade)\n",
    "print(mensagem)  # Isso imprimirá: Olá, Alice. Você tem 30 anos."
   ]
  },
  {
   "attachments": {},
   "cell_type": "markdown",
   "metadata": {},
   "source": [
    "#### isnumeric():\n",
    "\n",
    "A função isnumeric() é usada para verificar se uma string contém apenas caracteres numéricos. Ela retorna True se todos os caracteres da string forem numéricos e False caso contrário. Veja um exemplo:"
   ]
  },
  {
   "cell_type": "code",
   "execution_count": null,
   "metadata": {},
   "outputs": [],
   "source": [
    "numero_str = \"12345\"\n",
    "if numero_str.isnumeric():\n",
    "    print(\"A string contém apenas dígitos numéricos.\")\n",
    "else:\n",
    "    print(\"A string não contém apenas dígitos numéricos.\")\n"
   ]
  },
  {
   "attachments": {},
   "cell_type": "markdown",
   "metadata": {},
   "source": [
    "### Primitive Types/Tipos primitivos\n",
    "**Tipos primitivos**\n",
    "O que sao strings (str)\n",
    ", intigre (int),  \n",
    "float (float)\n",
    "booleans (bool)\n",
    "\n",
    "Funcao type, exemplo print\n",
    "\n",
    "Funçao .format\n",
    "Exemplo print('A soma entre {} e {} vale {}'.format(x,y,z))\n",
    "\n",
    "Fucnoes de metodo de tipo, como print(z.isnum(input?))"
   ]
  },
  {
   "attachments": {},
   "cell_type": "markdown",
   "metadata": {},
   "source": [
    "O que sao strings, int, float e booleans.\n",
    "Strings sao textos precisam ter aspas seguidas para utilizar no print.\n",
    "\n",
    "int sao integrais, nao precisam de aspas entre aspas, e voce pode realizar contas dentro, como por exemplo: \n",
    "``` python\n",
    "print(7+4), vai retornar 11.\n",
    "``` \n",
    "\n",
    "Voce pode adicionar os valores como strings, usando as ''.\n",
    "```python\n",
    "print('7'+'4'), ele ira retornar 74, como a soma do texto 7 e do texto 4.\n",
    "```\n",
    "\n",
    "Porem voce nao consegue adicionar 2 campos diferente, como:\n",
    "```python\n",
    "print('Ola' + 5), ele era retornar um erro.\n",
    "```\n",
    "Para ter esse print sera necessario utilizar da seguinte forma:\n",
    "```python\n",
    "print('Ola' , 5)\n",
    "```\n",
    "\n",
    "Podemos utilizar o modo interativo usando a funcao input, usando \n",
    "nome = input('Qual seu nome?')\n",
    "\n",
    "**Tipos primitivos**\n",
    "O que sao strings (str)\n",
    ", intigre (int),  \n",
    "float (float)\n",
    "booleans (bool)\n",
    "\n",
    "Funcao type, exemplo print\n",
    "\n",
    "Funçao .format\n",
    "Exemplo print('A soma entre {} e {} vale {}'.format(x,y,z))\n",
    "\n",
    "Fucnoes de metodo de tipo, como print(z.isnum(input?))"
   ]
  },
  {
   "attachments": {},
   "cell_type": "markdown",
   "metadata": {},
   "source": [
    "int sao integrais, nao precisam de aspas entre aspas, e voce pode realizar contas dentro, como por exemplo: \n",
    "``` python\n",
    "print(7+4), vai retornar 11."
   ]
  },
  {
   "cell_type": "code",
   "execution_count": null,
   "metadata": {},
   "outputs": [],
   "source": [
    "# int sao integrais, nao precisam de aspas entre aspas, e voce pode realizar contas dentro, como por exemplo: \n",
    "print(7+4) #, vai retornar 11."
   ]
  },
  {
   "attachments": {},
   "cell_type": "markdown",
   "metadata": {},
   "source": [
    "Voce pode adicionar os valores como strings, usando as ''.\n",
    "```python\n",
    "print('7'+'4'), ele ira retornar 74, como a soma do texto 7 e do texto 4.\n",
    "```"
   ]
  },
  {
   "cell_type": "code",
   "execution_count": null,
   "metadata": {},
   "outputs": [],
   "source": [
    "#Voce pode adicionar os valores como strings, usando as ''.\n",
    "print('7'+'4') #, ele ira retornar 74, como a soma do texto 7 e do texto 4."
   ]
  },
  {
   "attachments": {},
   "cell_type": "markdown",
   "metadata": {},
   "source": [
    "Porem voce nao consegue adicionar 2 campos diferente, como:\n",
    "```python\n",
    "print('Ola' + 5), ele era retornar um erro."
   ]
  },
  {
   "cell_type": "code",
   "execution_count": null,
   "metadata": {},
   "outputs": [],
   "source": [
    "# Porem voce nao consegue adicionar 2 campos diferente, como:\n",
    "print('Ola' + 5) #, ele era retornar um erro."
   ]
  },
  {
   "attachments": {},
   "cell_type": "markdown",
   "metadata": {},
   "source": [
    "Para ter esse print sera necessario utilizar da seguinte forma:\n",
    "```python\n",
    "print('Ola' , 5)\n",
    "```"
   ]
  },
  {
   "cell_type": "code",
   "execution_count": null,
   "metadata": {},
   "outputs": [],
   "source": [
    "print('Ola',5)"
   ]
  },
  {
   "attachments": {},
   "cell_type": "markdown",
   "metadata": {},
   "source": [
    "### Operadores Aritmeticos\n",
    "- (=) É utilizado para armazenar dados, se eu utilizo pessoa = 5, eu estou armazenando o dado 5 na classe pessoa.\n",
    "\n",
    "- (==) É utilizado como sinal de igualdade de fato, é importante ter isso em vista quando vai filtrar alguma informação.\n",
    "Por exemplo, idades = 5 armazenaria o dado 5 em idades, enquanto idades == 5 vai iria trazer a igualdade.\n",
    "\n",
    "- (+) Adição\n",
    "Exemplo: 5+2 == 7\n",
    "\n",
    "- (-) Subtração\n",
    "5-2 == 3\n",
    "\n",
    "- (*) Multiplicacão\n",
    "5*2 == 10\n",
    "\n",
    "- (/) Divisão\n",
    "5/2 == 2.5\n",
    "\n",
    "- (**) Potencia\n",
    "5**2 == 25\n",
    "É possivel utilizar a funcao pow tb, seguido dos numeros pow(5,2)\n",
    "\n",
    "- (//) Divisao Inteira - Se eu divir 5/2 usando metodo de divisao, eu botaria 2, e 2*2=4, ou seja Resta 1.\n",
    "2 Passa a ser o Inteiro da divisao, podendo ser percebido até mesmo como 2.5 em inteiro, 2.\n",
    "5//2 ==2\n",
    "\n",
    "\n",
    "- (%) Resto da divisão - É o resto que sobre da divsão entre 5/2, 1.\n",
    "5%2 == 1\n",
    "\n",
    "- (=) É utilizado para armazenar dados, se eu utilizo pessoa = 5, eu estou armazenando o dado 5 na classe pessoa.\n",
    "\n",
    "- (==)"
   ]
  },
  {
   "attachments": {},
   "cell_type": "markdown",
   "metadata": {},
   "source": [
    "#### Ordem de Precendencia\n",
    "1. ()\n",
    "2. **\n",
    "3. * . / . // . %\n",
    "4. + . -"
   ]
  },
  {
   "cell_type": "code",
   "execution_count": null,
   "metadata": {},
   "outputs": [],
   "source": [
    "5+3*2"
   ]
  },
  {
   "cell_type": "code",
   "execution_count": null,
   "metadata": {},
   "outputs": [],
   "source": [
    "3*5+4**2"
   ]
  },
  {
   "cell_type": "code",
   "execution_count": null,
   "metadata": {},
   "outputs": [],
   "source": [
    "3*(5+4)**2"
   ]
  },
  {
   "cell_type": "code",
   "execution_count": null,
   "metadata": {},
   "outputs": [],
   "source": [
    "9**9"
   ]
  },
  {
   "cell_type": "code",
   "execution_count": null,
   "metadata": {},
   "outputs": [],
   "source": []
  },
  {
   "attachments": {},
   "cell_type": "markdown",
   "metadata": {},
   "source": [
    "### Ativididades PT 1"
   ]
  },
  {
   "attachments": {},
   "cell_type": "markdown",
   "metadata": {},
   "source": [
    "5 - Faça um programa que leia um número inteiro e mostre na tela seu sucessor e seu antecessor.\n",
    "6 - Crie um algoritmo que leia um numero e mostre o seu dobro, triplo e raiz quadrada.\n",
    "7 - Desenvolva um programa que leia as duas notas de um aluno, calcule e mostre sua media.\n",
    "8 - Escreve um programa que leia um valor em metros e exiba convertido em centimetros e milimetros\n",
    "9 - Leia um numero inteiro qualquer e mostre na tela sua tabuada.\n",
    "10 - Leia quanto dinheiro tem na carteira e mostre quantos dolares ela pode comprar. considere 1 USD = 3,27 BRL\n",
    "11 - Leia a largura e altura de uma parede em metros, calcula a sua area e a quantidade de tinta necessaria para pintar, considere 1 ML TINTA = 2 m2\n",
    "12 - Leia o preço de um produto e mostre seu novo preço com x% de desconto.\n",
    "13 - Leia o salário e mostre seu novo salario, com x% de aumento.\n",
    "\n"
   ]
  },
  {
   "cell_type": "code",
   "execution_count": null,
   "metadata": {},
   "outputs": [],
   "source": []
  },
  {
   "cell_type": "code",
   "execution_count": null,
   "metadata": {},
   "outputs": [],
   "source": [
    "#11 - Leia a largura e altura de uma parede em metros, calcula a sua area e a quantidade de tinta necessaria para pintar, considere 1 ML TINTA = 2 m2\n",
    "l = float(input('Digite o valor de dinheiro: '))\n",
    "a = float(input('Digite o valor de dinheiro: '))\n",
    "m2 = a * l\n",
    "t = m2 / 2\n",
    "print(\"Para pintar uma parede de {} de altura por {} de largura, com {}m2 é preciso de {}ml de tinta\".format(a, l, m2, t))"
   ]
  },
  {
   "cell_type": "code",
   "execution_count": null,
   "metadata": {},
   "outputs": [],
   "source": [
    "#10 - Leia quanto dinheiro tem na carteira e mostre quantos dolares ela pode comprar. considere 1 USD = 3,27 BRL\n",
    "\n",
    "d = float(input('Digite o valor de dinheiro: '))\n",
    "usd = 3.27\n",
    "c = d/usd\n",
    "print(\"Com {} reais voce consegue comprar {} dolares na cotação de {}.\".format(d, c, usd))"
   ]
  },
  {
   "cell_type": "code",
   "execution_count": null,
   "metadata": {},
   "outputs": [],
   "source": [
    "numero = int(input(\"Digite um número para ver a tabuada: \"))\n",
    "print(f\"Tabuada do {numero}:\")\n",
    "\n",
    "print(\"+----------+----------+\")\n",
    "print(\"|  Número  |  Result  |\")\n",
    "print(\"+----------+----------+\")\n",
    "\n",
    "for i in range(1, 11):\n",
    "    resultado = numero * i\n",
    "    print(f\"|    {i:2d}    |    {resultado:2d}    |\")\n",
    "    print(\"+----------+----------+\")\n"
   ]
  },
  {
   "cell_type": "code",
   "execution_count": null,
   "metadata": {},
   "outputs": [],
   "source": [
    "#9 - Leia um numero inteiro qualquer e mostre na tela sua tabuada.\n",
    "n = int(input('Digite o valor do numero que deseja ver a tabuada: '))\n"
   ]
  },
  {
   "cell_type": "code",
   "execution_count": null,
   "metadata": {},
   "outputs": [],
   "source": [
    "#8 - Escreve um programa que leia um valor em metros e exiba convertido em centimetros e milimetros\n",
    "m = int(input('Digite o valor em metros: '))\n",
    "c = m * 100\n",
    "mi = m * 1000\n",
    "print(\"Em {} metros temos {} centimetros e {} milimetros\".format(m, c, mi))"
   ]
  },
  {
   "cell_type": "code",
   "execution_count": null,
   "metadata": {},
   "outputs": [],
   "source": [
    "#Faça um programa que leia um número inteiro e mostre na tela seu sucessor e seu antecessor.\n",
    "\n",
    "n = int(input('Digite o numero: '))\n",
    "a = n - 1\n",
    "s = n + 1\n",
    "print(\"O sucessor do numero {}, é {} e o antecessor é {}\".format(n, s, a))"
   ]
  },
  {
   "cell_type": "code",
   "execution_count": null,
   "metadata": {},
   "outputs": [],
   "source": [
    "#6 - Crie um algoritmo que leia um numero e mostre o seu dobro, triplo e raiz quadrada.\n",
    "\n",
    "n = float(input('Digite o numero: '))\n",
    "d = n * 2\n",
    "t = n * 3\n",
    "rq = n ** (1/2)\n",
    "print(\"Analisando o numero {}, seu dobro é {}, seu triplo é {} e sua raiz quadrada é de {:.2f}\".format(n, d, t, rq))\n"
   ]
  },
  {
   "cell_type": "code",
   "execution_count": null,
   "metadata": {},
   "outputs": [],
   "source": [
    "#7 - Desenvolva um programa que leia as duas notas de um aluno, calcule e mostre sua media.\n",
    "\n",
    "n1 = float(input('Digite sua 1 nota aqui: '))\n",
    "n2 = float(input('Digite sua 1 nota aqui: '))\n",
    "m = (n1 + n2)/2\n",
    "print(\"A média dos valores de {:.2f} e {:.2f} é {:.2f}\".format(n1, n2, m))\n"
   ]
  },
  {
   "attachments": {},
   "cell_type": "markdown",
   "metadata": {},
   "source": [
    "### Librarys/Bibliotecas\n",
    "Sao conjutos de Modulos com propositos especificos, e que necessitam ser instalados via pip install."
   ]
  },
  {
   "attachments": {},
   "cell_type": "markdown",
   "metadata": {},
   "source": [
    "### Módulos\n",
    "Comandos import é necessario para trazer determinadas funcoes\n",
    "\n",
    "Comandos from x import y para filtrar exatamente o que se quer utilizar.\n",
    "\n",
    "Biblioteca math\n",
    ".ceil\n",
    ".floor\n",
    ".trunc\n",
    ".pow\n",
    ".sqrt\n",
    ".factorial"
   ]
  },
  {
   "attachments": {},
   "cell_type": "markdown",
   "metadata": {},
   "source": [
    "### Manipulating Text\n",
    "\n",
    "#### Fatiamento de Strings\n",
    "We're going to learn operations with strings in Python in this class. The main operations that we're going to see are Slicing, len() analysis, count(), find(), transformation using replace(), upper(), lower(), capitalize(), title(), strip(), merging with join().\n",
    "\n",
    "\n",
    "frase[9:12]\n",
    "frase = Curso em Video Python \n",
    "- Contar cada letra e espaco como um numero, 9:14 equivale a video \n",
    "\n",
    "\n",
    "##### Funcoes de transformações.\n",
    "- len()\n",
    "\n",
    "- analysis\n",
    "\n",
    "- count()\n",
    "frase.count('o')\n",
    "frase.count('o', 0, 13)\n",
    "\n",
    "- find()\n",
    "\n",
    "- replace()\n",
    "\n",
    "- upper()\n",
    "\n",
    "- lower()\n",
    "\n",
    "- capitalize()\n",
    "\n",
    "- title()\n",
    "\n",
    "- strip()\n",
    "\n",
    "- join()\n"
   ]
  },
  {
   "attachments": {},
   "cell_type": "markdown",
   "metadata": {},
   "source": [
    "\n",
    "### Metodos\n",
    "Todo metodo leva parentenses no final?\n",
    "\n",
    "Em Python, métodos são funções que estão associadas a objetos. Eles permitem que você realize operações específicas em um objeto ou modifique o objeto de alguma forma. Métodos são parte fundamental da programação orientada a objetos (POO) e são usados para encapsular lógica e funcionalidades relacionadas a um objeto específico.\n",
    "\n",
    "Cada tipo de objeto em Python pode ter seus próprios métodos, que podem ser acessados através da notação de ponto (`.`). Por exemplo, se você tem uma variável `x` que é uma lista, você pode chamar métodos específicos de lista usando a sintaxe `x.metodo()`.\n",
    "\n",
    "Por exemplo, considere uma lista chamada `my_list`:\n",
    "\n",
    "```python\n",
    "my_list = [1, 2, 3, 4, 5]\n",
    "```\n",
    "\n",
    "Aqui estão alguns exemplos de métodos que você pode usar com listas:\n",
    "\n",
    "1. `append(valor)`: Adiciona um valor ao final da lista.\n",
    "```python\n",
    "my_list.append(6)\n",
    "```\n",
    "\n",
    "2. `remove(valor)`: Remove a primeira ocorrência do valor especificado na lista.\n",
    "```python\n",
    "my_list.remove(3)\n",
    "```\n",
    "\n",
    "3. `index(valor)`: Retorna o índice da primeira ocorrência do valor na lista.\n",
    "```python\n",
    "index = my_list.index(4)\n",
    "```\n",
    "\n",
    "4. `count(valor)`: Retorna o número de ocorrências do valor na lista.\n",
    "```python\n",
    "count = my_list.count(2)\n",
    "```\n",
    "\n",
    "Estes são apenas exemplos simples de métodos em Python. Cada tipo de objeto tem seus próprios métodos específicos que realizam tarefas relacionadas a esse tipo de objeto. A documentação oficial do Python é uma ótima fonte para aprender sobre os métodos disponíveis para diferentes tipos de objetos."
   ]
  },
  {
   "attachments": {},
   "cell_type": "markdown",
   "metadata": {},
   "source": [
    "### Identação.\n",
    "Em Python, a identação refere-se à maneira como você recua (indenta) o código para criar blocos de código. Em muitas outras linguagens de programação, como C++ ou Java, você usa chaves {} para definir blocos de código. No entanto, em Python, a identação é usada para indicar qual parte do código pertence a um bloco específico.\n",
    "Aqui está um exemplo:\n",
    "\n",
    "```python\n",
    "if idade >= 18:\n",
    "    print(\"Você é um adulto!\")\n",
    "else:\n",
    "    print(\"Você é menor de idade.\") \n",
    "```\n",
    "\n",
    "Neste exemplo, a identação é usada para definir o bloco de código que pertence ao if e ao else. O código dentro do bloco if será executado se a condição idade >= 18 for verdadeira, e o código dentro do bloco else será executado se a condição for falsa.\n",
    "\n",
    "Portanto, em resumo, em Python, a identação é a maneira de organizar e estruturar seu código, indicando quais partes do código pertencem a blocos específicos, como loops, condicionais, funções, entre outros. Certifique-se de manter a mesma quantidade de espaço em branco à esquerda para todos os elementos de um mesmo bloco. Isso ajuda o Python a entender a estrutura do seu código corretamente."
   ]
  },
  {
   "attachments": {},
   "cell_type": "markdown",
   "metadata": {},
   "source": [
    "### Condicionais\n",
    "\n",
    "#### Condicoes simples\n",
    "\n",
    "#### Condicoes compostas\n"
   ]
  },
  {
   "attachments": {},
   "cell_type": "markdown",
   "metadata": {},
   "source": [
    "se = if\n",
    "senao = else\n",
    "\n",
    "if carro.esquerda():\n",
    "    bloco True\n",
    "else:\n",
    "    bloco False"
   ]
  },
  {
   "cell_type": "code",
   "execution_count": null,
   "metadata": {},
   "outputs": [],
   "source": [
    "tempo = int(input('Quantos anos tem seu carro?'))\n",
    "if tempo <=3:\n",
    "    print('carro novo')\n",
    "else:\n",
    "    print('carro velho')"
   ]
  },
  {
   "cell_type": "code",
   "execution_count": null,
   "metadata": {},
   "outputs": [],
   "source": [
    "tempo = int(input('Quantos anos tem seu carro?'))\n",
    "print('carro novo' if tempo <=3 else 'carro velho')\n"
   ]
  },
  {
   "attachments": {},
   "cell_type": "markdown",
   "metadata": {},
   "source": [
    "### Cores no Terminal?\n"
   ]
  },
  {
   "cell_type": "markdown",
   "metadata": {},
   "source": []
  },
  {
   "attachments": {},
   "cell_type": "markdown",
   "metadata": {},
   "source": [
    "### Dicas e Regras"
   ]
  },
  {
   "attachments": {},
   "cell_type": "markdown",
   "metadata": {},
   "source": [
    "### Condições Aninhadas"
   ]
  },
  {
   "attachments": {},
   "cell_type": "markdown",
   "metadata": {},
   "source": [
    "### Estrutura de repetição for"
   ]
  },
  {
   "attachments": {},
   "cell_type": "markdown",
   "metadata": {},
   "source": [
    "### Estrutura de repetição while"
   ]
  },
  {
   "attachments": {},
   "cell_type": "markdown",
   "metadata": {},
   "source": [
    "### Interrompendo repetições while"
   ]
  },
  {
   "attachments": {},
   "cell_type": "markdown",
   "metadata": {},
   "source": [
    "### Tuplas"
   ]
  },
  {
   "attachments": {},
   "cell_type": "markdown",
   "metadata": {},
   "source": [
    "### Listas PT1"
   ]
  },
  {
   "attachments": {},
   "cell_type": "markdown",
   "metadata": {},
   "source": [
    "### Listas PT2"
   ]
  },
  {
   "attachments": {},
   "cell_type": "markdown",
   "metadata": {},
   "source": [
    "### Dicionários"
   ]
  },
  {
   "attachments": {},
   "cell_type": "markdown",
   "metadata": {},
   "source": [
    "### Funçoes PT1"
   ]
  },
  {
   "attachments": {},
   "cell_type": "markdown",
   "metadata": {},
   "source": [
    "### Funções PT2"
   ]
  },
  {
   "attachments": {},
   "cell_type": "markdown",
   "metadata": {},
   "source": [
    "### Módulos e Pacotes"
   ]
  },
  {
   "attachments": {},
   "cell_type": "markdown",
   "metadata": {},
   "source": [
    "### Tratamento de Erros e Exceções"
   ]
  },
  {
   "attachments": {},
   "cell_type": "markdown",
   "metadata": {},
   "source": [
    "# Trybe - Python "
   ]
  },
  {
   "attachments": {},
   "cell_type": "markdown",
   "metadata": {},
   "source": [
    "## Variaveis\n",
    "### Funcoes Build in Variaveis 1\n",
    "\n",
    "## Funcoes e Modulos\n",
    "\n",
    "## Tipos Primitivos\n",
    "### Funcoes Build in Primitivas\n",
    "#### String(str)\n",
    "#### Bolean(bolean)\n",
    "#### Integre\n",
    "#### Float (float) \n",
    "\n",
    "## Estrutura de Decisão\n",
    "\n",
    "## Estrutura de Repeticão\n",
    "\n",
    "## Formatação de String\n"
   ]
  },
  {
   "attachments": {},
   "cell_type": "markdown",
   "metadata": {},
   "source": [
    "# Data Camp"
   ]
  }
 ],
 "metadata": {
  "kernelspec": {
   "display_name": "Python 3",
   "language": "python",
   "name": "python3"
  },
  "language_info": {
   "codemirror_mode": {
    "name": "ipython",
    "version": 3
   },
   "file_extension": ".py",
   "mimetype": "text/x-python",
   "name": "python",
   "nbconvert_exporter": "python",
   "pygments_lexer": "ipython3",
   "version": "3.11.1"
  },
  "orig_nbformat": 4
 },
 "nbformat": 4,
 "nbformat_minor": 2
}
