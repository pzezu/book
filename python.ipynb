{
 "cells": [
  {
   "attachments": {},
   "cell_type": "markdown",
   "metadata": {},
   "source": [
    "# Instruções Iniciais\n",
    "Este repositorio esta configurado para armazenar um livro em Jupyter notebook a fim de explicar claramente o uso de Python do inicio ao fim no que compreende o total do conhecimento do autor, na atual versão temos apenas 2 arquivos:\n",
    "- Python_book.ipynb, O arquivo que esta lendo no momento.\n",
    "- Atividades.ipynb, Uma coleção de atividades compiladas da internet e respondidas, como uma biblioteca de usos de codigo que vai do mais simples ao mais facil, a edição atual compreende as atividades do Curso em Video Python Mundo 1 do Gustavo Guanabara.\n",
    "- Respostas.ipynb, arquivo onde constam todas as respostas das atividades para caso haja duvidas."
   ]
  },
  {
   "attachments": {},
   "cell_type": "markdown",
   "metadata": {},
   "source": [
    "# Terminal"
   ]
  },
  {
   "attachments": {},
   "cell_type": "markdown",
   "metadata": {},
   "source": [
    "## Cores no Terminal?\n"
   ]
  },
  {
   "attachments": {},
   "cell_type": "markdown",
   "metadata": {},
   "source": [
    "# Funcoes\n",
    "Uma função em Python é um bloco de código nomeado que realiza uma tarefa específica. Ela pode receber argumentos (dados de entrada), processá-los e retornar um valor (dados de saída). As funções ajudam a modularizar o código, tornando-o mais legível, reutilizável e organizado.\n",
    "Em Python, existem três tipos principais de funções:\n",
    "\n",
    "- Funções Integradas (Built-in Functions): São funções que já vêm embutidas na linguagem e podem ser usadas diretamente sem a necessidade de importar módulos adicionais. Algumas funções integradas comuns incluem print(), len(), type(), int(), str(), entre outras. Elas fornecem funcionalidades básicas e essenciais para a programação em Python.\n",
    "\n",
    "- Funções Definidas pelo Usuário: São funções que você mesmo cria para realizar tarefas específicas. Você pode definir suas próprias funções usando a palavra-chave def e dar um nome significativo à função. As funções definidas pelo usuário podem receber argumentos, executar um bloco de código e retornar valores.\n",
    "\n",
    "- Funções de Bibliotecas (Library Functions): Essas são funções que não fazem parte do núcleo da linguagem, mas estão disponíveis em bibliotecas (módulos) específicas. Para usar essas funções, você precisa importar o módulo relevante. Exemplos incluem as funções matemáticas do módulo math, as funções de manipulação de arquivos do módulo os, etc."
   ]
  },
  {
   "cell_type": "markdown",
   "metadata": {},
   "source": [
    "Além desses três tipos principais, algumas funções têm propriedades especiais:\n",
    "\n",
    "- Funções Anônimas (Lambda Functions): São funções pequenas e sem nome que podem ser usadas para operações simples. Elas são definidas usando a palavra-chave lambda.\n",
    "\n",
    "- Funções Recursivas: São funções que chamam a si mesmas em seu próprio processo. São úteis para resolver problemas que podem ser divididos em subproblemas semelhantes.\n",
    "\n",
    "- Funções Geradoras (Generator Functions): São funções especiais que retornam um gerador, permitindo a criação de sequências de valores sob demanda, economizando memória.\n",
    "\n",
    "Cada tipo de função tem seu próprio propósito e uso. As funções integradas e as funções de bibliotecas fornecem uma ampla gama de funcionalidades prontas para uso, enquanto as funções definidas pelo usuário permitem que você crie código personalizado e modular para atender às suas necessidades específicas."
   ]
  },
  {
   "attachments": {},
   "cell_type": "markdown",
   "metadata": {},
   "source": [
    "Temos algo assim entao, temos: \n",
    "Funcoes build in - como print, input etc\n",
    "Funcoes de modulo - como math.sin ou randam.random e requerem o comando import\n",
    "Funcoes de Biblioteca - como o yfinance.info e afins, e requerem o comando pip install e consequemente acesso ao terminal\n",
    "Funcoes de Framework - como o flask ou django, que requerem o comando pip install ainda mais acesso ao terminal\n",
    "\n",
    "Sim, você entendeu corretamente. Você descreveu uma hierarquia que abrange diferentes tipos de funcionalidades em Python, conforme a forma como elas são fornecidas e acessadas:\n",
    "\n",
    "1. **Funções Built-in:** Essas são funções integradas no próprio Python e estão disponíveis em qualquer ambiente Python sem a necessidade de importar módulos adicionais. Exemplos incluem `print()`, `input()`, `len()`, etc.\n",
    "\n",
    "2. **Funções de Módulo:** Essas são funções fornecidas por módulos da biblioteca padrão do Python. Elas estão agrupadas em módulos específicos que precisam ser importados para serem usados. Exemplos incluem `math.sin()`, `random.random()`, etc.\n",
    "\n",
    "3. **Funções de Biblioteca:** Essas são funções que fazem parte de bibliotecas externas, não fazem parte da biblioteca padrão do Python, mas podem ser instaladas usando o gerenciador de pacotes `pip`. Para usá-las, você precisa primeiro instalá-las usando `pip install` e depois importá-las em seu código. Exemplos incluem funções do `yfinance` para acesso a dados financeiros.\n",
    "\n",
    "4. **Funções de Framework:** Essas são funções que fazem parte de frameworks externos mais abrangentes. Eles geralmente incluem uma variedade de funcionalidades e são projetados para um propósito específico, como desenvolvimento web. Para usar funções de um framework como Flask ou Django, você precisa instalá-lo usando `pip install` e importá-lo em seu código.\n",
    "\n",
    "Sua descrição captura bem a hierarquia das diferentes formas de funcionalidades em Python, desde as built-in até as fornecidas por bibliotecas e frameworks externos. Isso demonstra a flexibilidade e a extensibilidade do ecossistema Python, permitindo que os desenvolvedores escolham as ferramentas certas para suas necessidades específicas."
   ]
  },
  {
   "attachments": {},
   "cell_type": "markdown",
   "metadata": {},
   "source": [
    "## Funções em Python: Organizando e Maximizando a Eficiência\n",
    "\n",
    "Em Python, as funções desempenham um papel fundamental na estruturação de código eficiente e organizado. Elas encapsulam blocos de código com propósitos específicos, permitindo o reuso e a legibilidade. Três categorias principais de funções se destacam no ecossistema Python:\n",
    "\n",
    "**1. Funções Integradas (Built-in Functions):** Essenciais e prontas para uso, as funções integradas são partes nativas da linguagem. Elas não requerem importação e estão sempre disponíveis. Funções como `print()`, `len()`, `type()`, `int()`, `str()` e outras fornecem as funcionalidades básicas necessárias para programar efetivamente.\n",
    "\n",
    "**2. Funções Definidas pelo Usuário:** Empoderando os programadores a criar soluções personalizadas, as funções definidas pelo usuário são criadas usando a palavra-chave `def`. Isso permite criar blocos de código com nomes significativos, aceitar argumentos e retornar valores específicos. As funções definidas pelo usuário enriquecem o código com modularidade e personalização.\n",
    "\n",
    "**3. Funções de Bibliotecas (Library Functions):** Expansões do repertório padrão da linguagem, as funções de bibliotecas são disponibilizadas por módulos específicos. Enquanto as funções integradas cobrem o básico, as bibliotecas fornecem ferramentas especializadas. Por exemplo, o módulo `math` disponibiliza funções matemáticas avançadas, enquanto o módulo `os` oferece funções de manipulação de arquivos.\n",
    "\n",
    "Além desses três tipos fundamentais, algumas funções apresentam propriedades distintas:\n",
    "\n",
    "- **Funções Anônimas (Lambda Functions):** Pequenas e sem nome, as funções lambda são ideais para tarefas simples. Elas são definidas usando a palavra-chave `lambda`.\n",
    "\n",
    "- **Funções Recursivas:** Um mecanismo poderoso, as funções recursivas chamam a si mesmas, resolvendo problemas por meio de subproblemas semelhantes.\n",
    "\n",
    "- **Funções Geradoras (Generator Functions):** Eficientes em termos de memória, as funções geradoras retornam um gerador, permitindo a criação de sequências de valores sob demanda.\n",
    "\n",
    "Cada categoria de função tem seu propósito único. Funções integradas e de bibliotecas fornecem um conjunto sólido de ferramentas, enquanto as funções definidas pelo usuário permitem personalização. No coração do desenvolvimento em Python, essas funções moldam a eficiência e a flexibilidade do código."
   ]
  },
  {
   "attachments": {},
   "cell_type": "markdown",
   "metadata": {},
   "source": [
    "Claro, vou explicar mais detalhadamente sobre funções recursivas e funções geradoras:\n",
    "\n",
    "### **Funções Recursivas:**\n",
    "Uma função recursiva é aquela que chama a si mesma durante sua execução. Essa abordagem é útil para resolver problemas que podem ser divididos em subproblemas similares e mais simples. A ideia é resolver o problema principal decompondo-o em casos menores até chegar a um caso base que pode ser resolvido diretamente.\n",
    "\n",
    "Principais características das funções recursivas:\n",
    "\n",
    "- **Caso Base:** Toda função recursiva deve ter um caso base, que é uma condição que define quando a recursão deve parar. Se o caso base não for atingido, a função continuará chamando a si mesma.\n",
    "\n",
    "- **Chamada Recursiva:** Dentro do corpo da função, há uma chamada para a mesma função, mas com argumentos diferentes. Essa chamada cria um novo nível de execução da função.\n",
    "\n",
    "Exemplo de função recursiva para calcular o fatorial de um número:\n",
    "\n",
    "```python\n",
    "def fatorial(n):\n",
    "    if n == 0:\n",
    "        return 1  # Caso base\n",
    "    else:\n",
    "        return n * fatorial(n - 1)  # Chamada recursiva\n",
    "\n",
    "resultado = fatorial(5)\n",
    "print(resultado)  # Saída: 120\n",
    "```\n",
    "\n",
    "### **Funções Geradoras:**\n",
    "Funções geradoras são uma maneira eficiente de criar sequências de valores sob demanda. Ao contrário das funções que retornam uma lista completa de valores, as funções geradoras retornam um gerador, que é uma sequência especial que produz valores conforme são necessários, economizando memória.\n",
    "\n",
    "Principais características das funções geradoras:\n",
    "\n",
    "- **Palavra-Chave `yield`:** Em vez de usar a palavra-chave `return`, as funções geradoras usam `yield` para retornar valores. O `yield` pausa a execução da função e retorna o valor, mantendo o estado da função.\n",
    "\n",
    "- **Estado da Função Preservado:** Quando a função é chamada novamente, a execução continua a partir do ponto onde a última chamada foi pausada, mantendo o estado da função. Isso permite a produção sob demanda de valores.\n",
    "\n",
    "Exemplo de função geradora que gera os números da sequência de Fibonacci:\n",
    "\n",
    "```python\n",
    "def fibonacci():\n",
    "    a, b = 0, 1\n",
    "    while True:\n",
    "        yield a\n",
    "        a, b = b, a + b\n",
    "\n",
    "fib = fibonacci()\n",
    "for _ in range(10):\n",
    "    print(next(fib), end=\" \")  # Saída: 0 1 1 2 3 5 8 13 21 34\n",
    "```\n",
    "\n",
    "Funções geradoras são especialmente úteis quando você precisa lidar com sequências grandes ou infinitas de valores, pois evitam a alocação de memória para todos os valores de uma vez."
   ]
  },
  {
   "attachments": {},
   "cell_type": "markdown",
   "metadata": {},
   "source": [
    "# Librarys/Bibliotecas\n",
    "Sao conjutos de Modulos com propositos especificos, e que necessitam ser instalados via pip install."
   ]
  },
  {
   "attachments": {},
   "cell_type": "markdown",
   "metadata": {},
   "source": [
    "Aqui estão alguns exemplos de módulos da biblioteca padrão do Python que podem ser considerados parte de um \"framework\" embutido:\n",
    "\n",
    "- datetime: Para trabalhar com datas e horas.\n",
    "- os e shutil: Para lidar com operações de sistema e manipulação de arquivos.\n",
    "- json e pickle: Para serialização e desserialização de dados.\n",
    "- http.server e socketserver: Para construir servidores web e sockets.\n",
    "- sqlite3: Para interagir com bancos de dados SQLite.\n",
    "- urllib e requests: Para fazer requisições HTTP.\n",
    "- math e random: Para operações matemáticas e geração de números aleatórios.\n",
    "- re: Para expressões regulares."
   ]
  },
  {
   "attachments": {},
   "cell_type": "markdown",
   "metadata": {},
   "source": [
    "## Módulos build in\n",
    "Comandos import é necessario para trazer determinadas funcoes\n",
    "\n",
    "Comandos from x import y para filtrar exatamente o que se quer utilizar.\n"
   ]
  },
  {
   "attachments": {},
   "cell_type": "markdown",
   "metadata": {},
   "source": [
    "## Módulos nao build in\n",
    "Comandos import é necessario para trazer determinadas funcoes\n",
    "\n",
    "Comandos from x import y para filtrar exatamente o que se quer utilizar.\n",
    "\n",
    "#Biblioteca math\n",
    "- .ceil\n",
    "- .floor\n",
    "- .trunc\n",
    "- .pow\n",
    "- .sqrt\n",
    "- .factorial"
   ]
  },
  {
   "attachments": {},
   "cell_type": "markdown",
   "metadata": {},
   "source": [
    "# Variaveis\n",
    "- Variáveis em Python são usadas para armazenar valores. Elas são declaradas com um nome e podem conter diferentes tipos de dados, como números, strings e objetos. Atribuímos valores às variáveis usando o sinal de igual (=)."
   ]
  },
  {
   "attachments": {},
   "cell_type": "markdown",
   "metadata": {},
   "source": [
    "## Convenções para nomear as variáveis:\n",
    "- Iniciar sempre com letra minúscula;\n",
    "- O nome pode ser composto por letras, algarismos e underline(_);\n",
    "- E não podemos usar palavras reservadas do Python, como if, for, from, etc."
   ]
  },
  {
   "cell_type": "code",
   "execution_count": null,
   "metadata": {},
   "outputs": [],
   "source": [
    "l = 'letra'\n",
    "n = 50"
   ]
  },
  {
   "cell_type": "code",
   "execution_count": 13,
   "metadata": {},
   "outputs": [
    {
     "ename": "SyntaxError",
     "evalue": "invalid syntax (871384000.py, line 1)",
     "output_type": "error",
     "traceback": [
      "\u001b[0;36m  Cell \u001b[0;32mIn[13], line 1\u001b[0;36m\u001b[0m\n\u001b[0;31m    if = 'letra'\u001b[0m\n\u001b[0m       ^\u001b[0m\n\u001b[0;31mSyntaxError\u001b[0m\u001b[0;31m:\u001b[0m invalid syntax\n"
     ]
    }
   ],
   "source": [
    "if = 'letra'"
   ]
  },
  {
   "cell_type": "code",
   "execution_count": 14,
   "metadata": {},
   "outputs": [
    {
     "ename": "SyntaxError",
     "evalue": "cannot assign to literal here. Maybe you meant '==' instead of '='? (231696815.py, line 1)",
     "output_type": "error",
     "traceback": [
      "\u001b[0;36m  Cell \u001b[0;32mIn[14], line 1\u001b[0;36m\u001b[0m\n\u001b[0;31m    50 = 'letra'\u001b[0m\n\u001b[0m    ^\u001b[0m\n\u001b[0;31mSyntaxError\u001b[0m\u001b[0;31m:\u001b[0m cannot assign to literal here. Maybe you meant '==' instead of '='?\n"
     ]
    }
   ],
   "source": [
    "50 = 'letra'"
   ]
  },
  {
   "attachments": {},
   "cell_type": "markdown",
   "metadata": {},
   "source": [
    "# Built-in Functions/Funções Embutidas\n",
    "As funções embutidas, também conhecidas como funções integradas ou built-in functions, são funções pré-definidas na linguagem de programação Python. Elas fazem parte do próprio Python e estão disponíveis para uso imediato, sem a necessidade de importar módulos adicionais. Essas funções são componentes essenciais da linguagem e oferecem funcionalidades básicas que são amplamente utilizadas em tarefas de programação comuns.\n",
    "\n",
    "Ao meu ver pessoal, existem 2 tipos de funcoes emtutidas, as que necessiam do import e as que nao necessitam"
   ]
  },
  {
   "attachments": {},
   "cell_type": "markdown",
   "metadata": {},
   "source": [
    "# Funcoes Build in - Variaveis 1"
   ]
  },
  {
   "attachments": {},
   "cell_type": "markdown",
   "metadata": {},
   "source": [
    "### print()\n",
    "A função print() é usada para exibir informações na saída padrão, que normalmente é o console onde você está executando o código. Ela aceita um ou mais argumentos separados por vírgulas e os exibe como texto na saída."
   ]
  },
  {
   "cell_type": "code",
   "execution_count": null,
   "metadata": {},
   "outputs": [],
   "source": [
    "print(n)\n",
    "print(l)"
   ]
  },
  {
   "cell_type": "code",
   "execution_count": 25,
   "metadata": {},
   "outputs": [
    {
     "name": "stdout",
     "output_type": "stream",
     "text": [
      "Olá, Alice sua idade é 30\n"
     ]
    }
   ],
   "source": [
    "nome = \"Alice\"\n",
    "idade = 30\n",
    "print(\"Olá,\", nome, \"sua idade é\", idade)\n",
    "# Isso imprimirá: Olá, Alice sua idade é 30.\n"
   ]
  },
  {
   "cell_type": "markdown",
   "metadata": {},
   "source": [
    "É possivel utilizar tambem o /n para adicionar quebras ao print, por exemplo"
   ]
  },
  {
   "cell_type": "code",
   "execution_count": null,
   "metadata": {},
   "outputs": [],
   "source": [
    "# Usando o caractere especial \\n para criar quebras de linha\n",
    "linha1 = \"Esta é a linha 1.\"\n",
    "linha2 = \"Esta é a linha 2.\"\n",
    "linha3 = \"Esta é a linha 3.\"\n",
    "\n",
    "# Concatenando as linhas com \\n para criar um texto multilinha\n",
    "texto_multilinha = linha1 + \"\\n\" + linha2 + \"\\n\" + linha3\n",
    "\n",
    "# Imprimindo o texto multilinha\n",
    "print(texto_multilinha)\n"
   ]
  },
  {
   "attachments": {},
   "cell_type": "markdown",
   "metadata": {},
   "source": [
    "### input()\n",
    "A função input() é usada para obter entradas do usuário. Ela exibe uma mensagem (prompt) na tela e espera que o usuário digite algo. Quando o usuário pressiona a tecla \"Enter\", o que foi digitado é retornado como uma **string**.\n",
    "- Lembre que valor retornado por input() é sempre uma string e precisa ser tratado."
   ]
  },
  {
   "cell_type": "code",
   "execution_count": null,
   "metadata": {},
   "outputs": [
    {
     "name": "stdout",
     "output_type": "stream",
     "text": [
      "10\n"
     ]
    }
   ],
   "source": [
    "n = input(\"Digite um numero a ser exibida: \")\n",
    "print(n)"
   ]
  },
  {
   "cell_type": "code",
   "execution_count": null,
   "metadata": {},
   "outputs": [],
   "source": [
    "nome = input(\"Digite o seu nome: \")\n",
    "print(\"Olá,\", nome, \"! Bem-vindo!\")\n"
   ]
  },
  {
   "attachments": {},
   "cell_type": "markdown",
   "metadata": {},
   "source": [
    "### format()\n",
    "A função format() é usada para formatar uma string, substituindo marcadores de posição (chamados de \"placeholders\") pelos valores especificados. Isso é especialmente útil quando você deseja criar strings complexas ou formatar saídas. Veja um exemplo:"
   ]
  },
  {
   "attachments": {},
   "cell_type": "markdown",
   "metadata": {},
   "source": [
    "#### Tecnica de F string\n",
    "Voce pode adicionar a funcao .format usando f string e adicionando dentro do local. \n",
    "Cada versão do Python tem sua forma de utilização.\n",
    "\n",
    "\n",
    "Exemplo:\n",
    "```py\n",
    "nome = 'José'\n",
    "idade = 33\n",
    "\n",
    "print(f'0 {nome} tem {idade} anos. ') # PYTHON 3.6+\n",
    "print('O {} tem {} anos.'. format (nome, idade)) # PYTHON 3\n",
    "print('0 %s tem %d anos.' % (nome, idade)) # PYTHON 2\n",
    "```"
   ]
  },
  {
   "cell_type": "code",
   "execution_count": 7,
   "metadata": {},
   "outputs": [
    {
     "name": "stdout",
     "output_type": "stream",
     "text": [
      "0 José tem 33 anos. \n",
      "O José tem 33 anos.\n",
      "0 José tem 33 anos.\n"
     ]
    }
   ],
   "source": [
    "nome = 'José'\n",
    "idade = 33\n",
    "\n",
    "print(f'O {nome} tem {idade} anos. ') # PYTHON 3.6+\n",
    "print('O {} tem {} anos.'. format (nome, idade)) # PYTHON 3\n",
    "print('O %s tem %d anos.' % (nome, idade)) # PYTHON 2"
   ]
  },
  {
   "cell_type": "code",
   "execution_count": 12,
   "metadata": {},
   "outputs": [
    {
     "name": "stdout",
     "output_type": "stream",
     "text": [
      "O ----------------José tem 33 anos e ganha R$673.23 por mes.\n"
     ]
    }
   ],
   "source": [
    "nome = 'José'\n",
    "idade = 33\n",
    "salario = 673.23\n",
    "print(f'O {nome:->20} tem {idade} anos e ganha R${salario:.2f} por mes.') # PYTHON 3.6+\n"
   ]
  },
  {
   "cell_type": "code",
   "execution_count": null,
   "metadata": {},
   "outputs": [],
   "source": [
    "nome = \"Alice\"\n",
    "idade = 30\n",
    "mensagem = \"Olá, {}. Você tem {} anos.\".format(nome, idade)\n",
    "print(mensagem)  # Isso imprimirá: Olá, Alice. Você tem 30 anos."
   ]
  },
  {
   "cell_type": "markdown",
   "metadata": {},
   "source": [
    "É possivel utilizar tambem de formatacoes diferentes utilizando .format, como por exemplo:"
   ]
  },
  {
   "cell_type": "code",
   "execution_count": null,
   "metadata": {},
   "outputs": [],
   "source": [
    "nome = \"Alice\"\n",
    "idade = 30\n",
    "mensagem = \"Olá, {:.3f}. Você tem {:.2f} anos.\".format(nome, idade)\n",
    "print(mensagem)  # Isso imprimirá: Olá, Alice. Você tem 30 anos."
   ]
  },
  {
   "attachments": {},
   "cell_type": "markdown",
   "metadata": {},
   "source": [
    "### isnumeric():\n",
    "\n",
    "A função isnumeric() é usada para verificar se uma string contém apenas caracteres numéricos. Ela retorna True se todos os caracteres da string forem numéricos e False caso contrário. Veja um exemplo:"
   ]
  },
  {
   "cell_type": "code",
   "execution_count": null,
   "metadata": {},
   "outputs": [],
   "source": [
    "numero_str = \"12345\"\n",
    "if numero_str.isnumeric():\n",
    "    print(\"A string contém apenas dígitos numéricos.\")\n",
    "else:\n",
    "    print(\"A string não contém apenas dígitos numéricos.\")\n"
   ]
  },
  {
   "attachments": {},
   "cell_type": "markdown",
   "metadata": {},
   "source": [
    "# Primitive Types/Tipos primitivos\n",
    "**Tipos primitivos**\n",
    "O que sao strings (str)\n",
    ", intigre (int),  \n",
    "float (float)\n",
    "booleans (bool)\n",
    "\n",
    "Funcao type, exemplo print\n",
    "\n",
    "Funçao .format\n",
    "Exemplo print('A soma entre {} e {} vale {}'.format(x,y,z))\n",
    "\n",
    "Fucnoes de metodo de tipo, como print(z.isnum(input?))"
   ]
  },
  {
   "cell_type": "markdown",
   "metadata": {},
   "source": [
    "O que sao strings, int, float e booleans.\n",
    "Strings sao textos precisam ter aspas seguidas para utilizar no print.\n",
    "\n",
    "int sao integrais, nao precisam de aspas entre aspas, e voce pode realizar contas dentro, como por exemplo: \n",
    "``` python\n",
    "print(7+4), vai retornar 11.\n",
    "``` \n",
    "\n",
    "Voce pode adicionar os valores como strings, usando as ''.\n",
    "```python\n",
    "print('7'+'4'), ele ira retornar 74, como a soma do texto 7 e do texto 4.\n",
    "```\n",
    "\n",
    "Porem voce nao consegue adicionar 2 campos diferente, como:\n",
    "```python\n",
    "print('Ola' + 5), ele era retornar um erro.\n",
    "```\n",
    "Para ter esse print sera necessario utilizar da seguinte forma:\n",
    "```python\n",
    "print('Ola' , 5)\n",
    "```\n",
    "\n",
    "Podemos utilizar o modo interativo usando a funcao input, usando \n",
    "nome = input('Qual seu nome?')\n",
    "\n",
    "**Tipos primitivos**\n",
    "O que sao strings (str)\n",
    ", intigre (int),  \n",
    "float (float)\n",
    "booleans (bool)\n",
    "\n",
    "Funcao type, exemplo print\n",
    "\n",
    "Funçao .format\n",
    "Exemplo print('A soma entre {} e {} vale {}'.format(x,y,z))\n",
    "\n",
    "Fucnoes de metodo de tipo, como print(z.isnum(input?))"
   ]
  },
  {
   "attachments": {},
   "cell_type": "markdown",
   "metadata": {},
   "source": [
    "## Integres\n",
    "int sao integrais, nao precisam de aspas entre aspas, e voce pode realizar contas dentro, como por exemplo: \n",
    "``` python\n",
    "print(7+4), vai retornar 11."
   ]
  },
  {
   "cell_type": "code",
   "execution_count": null,
   "metadata": {},
   "outputs": [],
   "source": [
    "# int sao integrais, nao precisam de aspas entre aspas, e voce pode realizar contas dentro, como por exemplo: \n",
    "print(7+4) #, vai retornar 11."
   ]
  },
  {
   "attachments": {},
   "cell_type": "markdown",
   "metadata": {},
   "source": [
    "## Strings\n",
    "Voce pode adicionar os valores como strings, usando as ''.\n",
    "```python\n",
    "print('7'+'4'), ele ira retornar 74, como a soma do texto 7 e do texto 4.\n",
    "```"
   ]
  },
  {
   "cell_type": "code",
   "execution_count": null,
   "metadata": {},
   "outputs": [],
   "source": [
    "#Voce pode adicionar os valores como strings, usando as ''.\n",
    "print('7'+'4') #, ele ira retornar 74, como a soma do texto 7 e do texto 4."
   ]
  },
  {
   "cell_type": "markdown",
   "metadata": {},
   "source": [
    "Porem voce nao consegue adicionar 2 campos diferente, como:\n",
    "```python\n",
    "print('Ola' + 5), ele era retornar um erro."
   ]
  },
  {
   "cell_type": "code",
   "execution_count": null,
   "metadata": {},
   "outputs": [],
   "source": [
    "# Porem voce nao consegue adicionar 2 campos diferente, como:\n",
    "print('Ola' + 5) #, ele era retornar um erro."
   ]
  },
  {
   "cell_type": "markdown",
   "metadata": {},
   "source": [
    "Para ter esse print sera necessario utilizar da seguinte forma:\n",
    "```python\n",
    "print('Ola' , 5)\n",
    "```"
   ]
  },
  {
   "cell_type": "code",
   "execution_count": null,
   "metadata": {},
   "outputs": [],
   "source": [
    "print('Ola',5)"
   ]
  },
  {
   "cell_type": "code",
   "execution_count": 15,
   "metadata": {},
   "outputs": [
    {
     "data": {
      "text/plain": [
       "str"
      ]
     },
     "execution_count": 15,
     "metadata": {},
     "output_type": "execute_result"
    }
   ],
   "source": [
    "type('Ola')"
   ]
  },
  {
   "cell_type": "code",
   "execution_count": 16,
   "metadata": {},
   "outputs": [
    {
     "data": {
      "text/plain": [
       "int"
      ]
     },
     "execution_count": 16,
     "metadata": {},
     "output_type": "execute_result"
    }
   ],
   "source": [
    "type(50)"
   ]
  },
  {
   "cell_type": "code",
   "execution_count": 17,
   "metadata": {},
   "outputs": [
    {
     "data": {
      "text/plain": [
       "bool"
      ]
     },
     "execution_count": 17,
     "metadata": {},
     "output_type": "execute_result"
    }
   ],
   "source": [
    "type(True)"
   ]
  },
  {
   "cell_type": "code",
   "execution_count": 18,
   "metadata": {},
   "outputs": [
    {
     "data": {
      "text/plain": [
       "float"
      ]
     },
     "execution_count": 18,
     "metadata": {},
     "output_type": "execute_result"
    }
   ],
   "source": [
    "type(5.5)"
   ]
  },
  {
   "cell_type": "code",
   "execution_count": 20,
   "metadata": {},
   "outputs": [
    {
     "data": {
      "text/plain": [
       "tuple"
      ]
     },
     "execution_count": 20,
     "metadata": {},
     "output_type": "execute_result"
    }
   ],
   "source": [
    "teste = ('banana', 'maca')\n",
    "type(teste)"
   ]
  },
  {
   "cell_type": "code",
   "execution_count": 19,
   "metadata": {},
   "outputs": [
    {
     "data": {
      "text/plain": [
       "list"
      ]
     },
     "execution_count": 19,
     "metadata": {},
     "output_type": "execute_result"
    }
   ],
   "source": [
    "teste = ['banana', 'maca']\n",
    "type(teste)"
   ]
  },
  {
   "cell_type": "code",
   "execution_count": 21,
   "metadata": {},
   "outputs": [
    {
     "data": {
      "text/plain": [
       "dict"
      ]
     },
     "execution_count": 21,
     "metadata": {},
     "output_type": "execute_result"
    }
   ],
   "source": [
    "pessoa = {\n",
    "    \"nome\": \"João\",\n",
    "    \"idade\": 30,\n",
    "    \"profissao\": \"Engenheiro\"\n",
    "}\n",
    "\n",
    "type(pessoa)"
   ]
  },
  {
   "attachments": {},
   "cell_type": "markdown",
   "metadata": {},
   "source": [
    "# Complexy Types/ Tipos complexos - Tuples, Arrays, Dictorionarys and more,\n",
    "Pense em uma lista como uma caixa onde você pode guardar várias coisas, como brinquedos. Cada brinquedo é um \"elemento\" da lista. Você pode adicionar mais brinquedos, tirar brinquedos, ou até mesmo trocar um brinquedo por outro.\n",
    "\n",
    "Um array é como uma estante organizada, onde você coloca livros. Cada livro é um \"elemento\" do array. Os livros têm números que indicam onde estão na estante, então você pode pegar um livro diretamente usando o número certo.\n",
    "\n",
    "No mundo da programação, listas e arrays funcionam de maneira parecida. Uma lista é uma coleção de coisas, e cada coisa é um elemento. Em uma lista, você pode adicionar, remover ou trocar elementos facilmente. Um array é uma forma específica de lista, onde os elementos estão organizados por números, tornando mais eficiente encontrar um elemento específico.\n",
    "\n",
    "Lembre-se, no Python, usamos principalmente listas para armazenar coleções de elementos, e se precisamos de funcionalidades mais avançadas para cálculos numéricos, podemos recorrer à biblioteca NumPy e seus arrays."
   ]
  },
  {
   "attachments": {},
   "cell_type": "markdown",
   "metadata": {},
   "source": [
    "## Tuples/Tuplas\n",
    "Uma tupla em Python é como uma lista, mas com uma diferença importante: as tuplas não podem ser modificadas depois de criadas. É como se você colocasse algumas coisas em uma caixa e fechasse a tampa bem forte. Você ainda pode ver o que está dentro, mas não pode adicionar, remover ou trocar nada.\n",
    "\n",
    "Pense em uma tupla como uma lista \"imutável\". Ela é ótima para armazenar informações que você não quer que sejam alteradas acidentalmente. Cada item em uma tupla é um \"elemento\", assim como na lista, mas você não pode fazer mudanças nesses elementos depois de criar a tupla.\n",
    "\n",
    "Por exemplo, se você tiver informações sobre uma pessoa, como nome e idade, e quiser ter certeza de que essas informações não mudem, você poderia usar uma tupla para armazená-las.\n",
    "\n",
    "Em resumo, uma tupla em Python é como uma lista que não pode ser alterada após ser criada. Ela é usada para armazenar dados que precisam ser mantidos constantes."
   ]
  },
  {
   "cell_type": "code",
   "execution_count": null,
   "metadata": {},
   "outputs": [],
   "source": [
    "tuplas = (1, 2, 3)\n"
   ]
  },
  {
   "attachments": {},
   "cell_type": "markdown",
   "metadata": {},
   "source": [
    "## Arrays/Listas 2"
   ]
  },
  {
   "cell_type": "code",
   "execution_count": 24,
   "metadata": {},
   "outputs": [],
   "source": [
    "arrays = ['Sabao', 'Shampoo', 'Trufas']"
   ]
  },
  {
   "attachments": {},
   "cell_type": "markdown",
   "metadata": {},
   "source": [
    "## Dicionários\n",
    "Em Python, um dicionário é uma estrutura de dados que permite armazenar e organizar pares de chave-valor. Cada elemento em um dicionário é composto por duas partes: uma chave única e um valor associado a essa chave. As chaves em um dicionário são usadas para indexar e acessar os valores correspondentes de maneira eficiente.\n",
    "\n",
    "Principais características de dicionários em Python:\n",
    "\n",
    "1. **Chaves Únicas:** As chaves em um dicionário são únicas, o que significa que não pode haver duplicatas.\n",
    "\n",
    "2. **Valores Associados:** Cada chave em um dicionário é associada a um valor. Esse valor pode ser de qualquer tipo, incluindo números, strings, listas, tuplas, outros dicionários e até funções.\n",
    "\n",
    "3. **Mutabilidade:** Os dicionários são mutáveis, o que significa que você pode adicionar, atualizar ou remover pares chave-valor após a criação do dicionário.\n",
    "\n",
    "4. **Não Ordenados (até Python 3.6):** Antes do Python 3.7, os dicionários não garantiam uma ordem específica dos elementos. A partir do Python 3.7, a ordem de inserção foi mantida, e no Python 3.8 e posteriores, a ordem de inserção é garantida.\n",
    "\n",
    "5. **Sintaxe de Criação:** Os dicionários são criados usando chaves `{}`. Os pares chave-valor são especificados como `chave: valor`.\n",
    "\n",
    "Exemplo de um dicionário simples em Python:\n",
    "\n",
    "```python\n",
    "pessoa = {\n",
    "    \"nome\": \"João\",\n",
    "    \"idade\": 30,\n",
    "    \"profissao\": \"Engenheiro\"\n",
    "}\n",
    "```\n",
    "\n",
    "Para acessar um valor em um dicionário, você utiliza a chave correspondente:\n",
    "\n",
    "```python\n",
    "print(pessoa[\"nome\"])  # Saída: João\n",
    "print(pessoa[\"idade\"])  # Saída: 30\n",
    "```\n",
    "\n",
    "Você também pode adicionar novos pares chave-valor ou atualizar valores existentes:\n",
    "\n",
    "```python\n",
    "pessoa[\"email\"] = \"joao@example.com\"  # Adiciona um novo par chave-valor\n",
    "pessoa[\"idade\"] = 31  # Atualiza o valor da chave \"idade\"\n",
    "```\n",
    "\n",
    "Os dicionários são amplamente usados em Python para representar mapeamentos de dados, configurações, registros e muito mais, devido à sua flexibilidade e eficiência na busca de valores por meio das chaves."
   ]
  },
  {
   "attachments": {},
   "cell_type": "markdown",
   "metadata": {},
   "source": [
    "# Operadores Aritmeticos\n",
    "- (=) É utilizado para armazenar dados, se eu utilizo pessoa = 5, eu estou armazenando o dado 5 na classe pessoa.\n",
    "\n",
    "- (==) É utilizado como sinal de igualdade de fato, é importante ter isso em vista quando vai filtrar alguma informação.\n",
    "Por exemplo, idades = 5 armazenaria o dado 5 em idades, enquanto idades == 5 vai iria trazer a igualdade.\n",
    "\n",
    "- (+) Adição\n",
    "Exemplo: 5+2 == 7\n",
    "\n",
    "- (-) Subtração\n",
    "5-2 == 3\n",
    "\n",
    "- (*) Multiplicacão\n",
    "5*2 == 10\n",
    "\n",
    "- (/) Divisão\n",
    "5/2 == 2.5\n",
    "\n",
    "- (**) Potencia\n",
    "5**2 == 25\n",
    "É possivel utilizar a funcao pow tb, seguido dos numeros pow(5,2)\n",
    "\n",
    "- (//) Divisao Inteira - Se eu divir 5/2 usando metodo de divisao, eu botaria 2, e 2*2=4, ou seja Resta 1.\n",
    "2 Passa a ser o Inteiro da divisao, podendo ser percebido até mesmo como 2.5 em inteiro, 2.\n",
    "5//2 ==2\n",
    "\n",
    "\n",
    "- (%) Resto da divisão - É o resto que sobre da divsão entre 5/2, 1.\n",
    "5%2 == 1\n",
    "\n",
    "- (+=) ???\n",
    "s = s + n == s+=n\n",
    " "
   ]
  },
  {
   "cell_type": "markdown",
   "metadata": {},
   "source": [
    "#### Ordem de Precendencia\n",
    "1. ()\n",
    "2. **\n",
    "3. * . / . // . %\n",
    "4. + . -"
   ]
  },
  {
   "cell_type": "code",
   "execution_count": null,
   "metadata": {},
   "outputs": [],
   "source": [
    "5+3*2"
   ]
  },
  {
   "cell_type": "code",
   "execution_count": null,
   "metadata": {},
   "outputs": [],
   "source": [
    "3*5+4**2"
   ]
  },
  {
   "cell_type": "code",
   "execution_count": null,
   "metadata": {},
   "outputs": [],
   "source": [
    "3*(5+4)**2"
   ]
  },
  {
   "cell_type": "code",
   "execution_count": null,
   "metadata": {},
   "outputs": [],
   "source": [
    "9**9"
   ]
  },
  {
   "cell_type": "code",
   "execution_count": null,
   "metadata": {},
   "outputs": [],
   "source": []
  },
  {
   "attachments": {},
   "cell_type": "markdown",
   "metadata": {},
   "source": [
    "## Contagem no Python\n",
    "É imporante notar que ele ignora o ultimo numero."
   ]
  },
  {
   "attachments": {},
   "cell_type": "markdown",
   "metadata": {},
   "source": [
    "# Librarys/Bibliotecas\n",
    "Sao conjutos de Modulos com propositos especificos, e que necessitam ser instalados via pip install."
   ]
  },
  {
   "attachments": {},
   "cell_type": "markdown",
   "metadata": {},
   "source": [
    "# Manipulating Text\n",
    "\n",
    "- Fatiamento de Strings\n",
    "We're going to learn operations with strings in Python in this class. The main operations that we're going to see are Slicing, len() analysis, count(), find(), transformation using replace(), upper(), lower(), capitalize(), title(), strip(), merging with join().\n",
    "\n",
    "frase[9:12]\n",
    "frase = Curso em Video Python \n",
    "- Contar cada letra e espaco como um numero, 9:14 equivale a video \n",
    "\n"
   ]
  },
  {
   "attachments": {},
   "cell_type": "markdown",
   "metadata": {},
   "source": [
    "### Funcoes de transformações.\n",
    "\n",
    "- len()\n",
    "\n",
    "- analysis\n",
    "\n",
    "- count()\n",
    "frase.count('o')\n",
    "frase.count('o', 0, 13)\n",
    "\n",
    "- find()\n",
    "\n",
    "- replace()\n",
    "\n",
    "- upper()\n",
    "\n",
    "- lower()\n",
    "\n",
    "- capitalize()\n",
    "\n",
    "- title()\n",
    "\n",
    "- strip()\n",
    "\n",
    "- join()\n"
   ]
  },
  {
   "cell_type": "markdown",
   "metadata": {},
   "source": [
    "\n",
    "### Metodos\n",
    "Todo metodo leva parentenses no final?\n",
    "\n",
    "Em Python, métodos são funções que estão associadas a objetos. Eles permitem que você realize operações específicas em um objeto ou modifique o objeto de alguma forma. Métodos são parte fundamental da programação orientada a objetos (POO) e são usados para encapsular lógica e funcionalidades relacionadas a um objeto específico.\n",
    "\n",
    "Cada tipo de objeto em Python pode ter seus próprios métodos, que podem ser acessados através da notação de ponto (`.`). Por exemplo, se você tem uma variável `x` que é uma lista, você pode chamar métodos específicos de lista usando a sintaxe `x.metodo()`.\n",
    "\n",
    "Por exemplo, considere uma lista chamada `my_list`:\n",
    "\n",
    "```python\n",
    "my_list = [1, 2, 3, 4, 5]\n",
    "```\n",
    "\n",
    "Aqui estão alguns exemplos de métodos que você pode usar com listas:\n",
    "\n",
    "1. `append(valor)`: Adiciona um valor ao final da lista.\n",
    "```python\n",
    "my_list.append(6)\n",
    "```\n",
    "\n",
    "2. `remove(valor)`: Remove a primeira ocorrência do valor especificado na lista.\n",
    "```python\n",
    "my_list.remove(3)\n",
    "```\n",
    "\n",
    "3. `index(valor)`: Retorna o índice da primeira ocorrência do valor na lista.\n",
    "```python\n",
    "index = my_list.index(4)\n",
    "```\n",
    "\n",
    "4. `count(valor)`: Retorna o número de ocorrências do valor na lista.\n",
    "```python\n",
    "count = my_list.count(2)\n",
    "```\n",
    "\n",
    "Estes são apenas exemplos simples de métodos em Python. Cada tipo de objeto tem seus próprios métodos específicos que realizam tarefas relacionadas a esse tipo de objeto. A documentação oficial do Python é uma ótima fonte para aprender sobre os métodos disponíveis para diferentes tipos de objetos."
   ]
  },
  {
   "attachments": {},
   "cell_type": "markdown",
   "metadata": {},
   "source": [
    "# Identação.\n",
    "Em Python, a identação refere-se à maneira como você recua (indenta) o código para criar blocos de código. Em muitas outras linguagens de programação, como C++ ou Java, você usa chaves {} para definir blocos de código. No entanto, em Python, a identação é usada para indicar qual parte do código pertence a um bloco específico.\n",
    "Aqui está um exemplo:\n",
    "\n",
    "```python\n",
    "if idade >= 18:\n",
    "    print(\"Você é um adulto!\")\n",
    "else:\n",
    "    print(\"Você é menor de idade.\") \n",
    "```\n",
    "\n",
    "Neste exemplo, a identação é usada para definir o bloco de código que pertence ao if e ao else. O código dentro do bloco if será executado se a condição idade >= 18 for verdadeira, e o código dentro do bloco else será executado se a condição for falsa.\n",
    "\n",
    "Portanto, em resumo, em Python, a identação é a maneira de organizar e estruturar seu código, indicando quais partes do código pertencem a blocos específicos, como loops, condicionais, funções, entre outros. Certifique-se de manter a mesma quantidade de espaço em branco à esquerda para todos os elementos de um mesmo bloco. Isso ajuda o Python a entender a estrutura do seu código corretamente."
   ]
  },
  {
   "attachments": {},
   "cell_type": "markdown",
   "metadata": {},
   "source": [
    "# Condicionais\n",
    "Em Python, condicionais são estruturas de controle que permitem que o programa tome decisões com base em condições específicas. Elas permitem que você execute um bloco de código se uma determinada condição for verdadeira e outro bloco de código se essa condição for falsa. As condicionais mais comuns em Python são definidas usando as palavras-chave if, elif (abreviação de \"else if\") e else.\n",
    "\n",
    "Aqui está um exemplo básico de como as condicionais funcionam em Python:"
   ]
  },
  {
   "cell_type": "code",
   "execution_count": null,
   "metadata": {},
   "outputs": [],
   "source": [
    "idade = 18\n",
    "\n",
    "if idade >= 18:\n",
    "    print(\"Você é maior de idade.\")\n",
    "else:\n",
    "    print(\"Você é menor de idade.\")\n"
   ]
  },
  {
   "attachments": {},
   "cell_type": "markdown",
   "metadata": {},
   "source": [
    "Neste exemplo, o código verifica se a variável idade é maior ou igual a 18. Se a condição for verdadeira, o programa imprimirá \"Você é maior de idade.\" Caso contrário, imprimirá \"Você é menor de idade.\"\n",
    "\n",
    "Você também pode usar a cláusula elif para lidar com múltiplas condições. Aqui está um exemplo:"
   ]
  },
  {
   "cell_type": "code",
   "execution_count": null,
   "metadata": {},
   "outputs": [],
   "source": [
    "nota = 85\n",
    "\n",
    "if nota >= 90:\n",
    "    print(\"Nota A\")\n",
    "elif nota >= 80:\n",
    "    print(\"Nota B\")\n",
    "elif nota >= 70:\n",
    "    print(\"Nota C\")\n",
    "else:\n",
    "    print(\"Nota abaixo de C\")\n"
   ]
  },
  {
   "attachments": {},
   "cell_type": "markdown",
   "metadata": {},
   "source": [
    "## Condicoes simples\n",
    "Uma condição simples é uma estrutura de controle que envolve apenas um teste condicional. Isso significa que você está verificando apenas uma única condição e executando um bloco de código caso essa condição seja verdadeira. O bloco de código que deve ser executado está diretamente associado à condição única.\n",
    "\n",
    "Exemplo de uma condição simples em Python:\n"
   ]
  },
  {
   "cell_type": "code",
   "execution_count": null,
   "metadata": {},
   "outputs": [],
   "source": [
    "idade = 18\n",
    "if idade >= 18:\n",
    "    print(\"Você é maior de idade.\")"
   ]
  },
  {
   "attachments": {},
   "cell_type": "markdown",
   "metadata": {},
   "source": [
    "## Condicoes compostas\n",
    "Uma condição composta envolve vários testes condicionais, muitas vezes combinados usando as palavras-chave if, elif (abreviação de \"else if\") e else. Isso permite que você crie uma série de verificações sequenciais para lidar com diferentes cenários. Uma condição composta é útil quando você tem várias opções e quer decidir qual bloco de código deve ser executado dependendo de várias condições.\n",
    "\n",
    "Exemplo de uma condição composta em Python:"
   ]
  },
  {
   "attachments": {},
   "cell_type": "markdown",
   "metadata": {},
   "source": [
    "- if = se\n",
    "- else = senao\n",
    "- elif = senao se\n",
    "\n",
    "EXEMPLO:\n",
    "if carro.esquerda():\n",
    "    bloco True\n",
    "else:\n",
    "    bloco False"
   ]
  },
  {
   "cell_type": "code",
   "execution_count": null,
   "metadata": {},
   "outputs": [],
   "source": [
    "tempo = int(input('Quantos anos tem seu carro?'))\n",
    "if tempo <=3:\n",
    "    print('carro novo')\n",
    "else:\n",
    "    print('carro velho')"
   ]
  },
  {
   "cell_type": "code",
   "execution_count": null,
   "metadata": {},
   "outputs": [],
   "source": [
    "tempo = int(input('Quantos anos tem seu carro?'))\n",
    "print('carro novo' if tempo <=3 else 'carro velho')\n"
   ]
  },
  {
   "attachments": {},
   "cell_type": "markdown",
   "metadata": {},
   "source": [
    "## Condições Aninhadas\n"
   ]
  },
  {
   "attachments": {},
   "cell_type": "markdown",
   "metadata": {},
   "source": [
    "O que é um codigo ANSI?\n",
    "\\033[(style) (text) (back)m\n",
    "\n",
    "\\033[0:33:44m\n",
    "\n",
    "##### Style\n",
    "0 - None\n",
    "1 - Bold\n",
    "4 - Underline\n",
    "7 - Negative\n",
    "\n",
    "##### Text\n",
    "30 Branco\n",
    "31 Vermelho\n",
    "32 Verde\n",
    "33 Amarelo\n",
    "34 Azul\n",
    "35 Roxo\n",
    "36 Ciano\n",
    "37 Cinza\n",
    "\n",
    "##### Back\n",
    "40 Branco\n",
    "41 vermelho\n",
    "42 verde\n",
    "43 amarelo\n",
    "44 azul\n",
    "45 roxo\n",
    "46 ciano\n",
    "47 cinza"
   ]
  },
  {
   "attachments": {},
   "cell_type": "markdown",
   "metadata": {},
   "source": [
    "Claro, vou transformar isso em uma tabela usando a sintaxe de markdown:\n",
    "\n",
    "| Style | Código | Texto     |\n",
    "|-------|--------|-----------|\n",
    "| 0     | None   | Branco    |\n",
    "| 1     | Bold   | Vermelho  |\n",
    "| 4     | Underline | Verde   |\n",
    "| 7     | Negative | Amarelo  |\n",
    "\n",
    "\n",
    "\n",
    "\n",
    "| Código | Back   | Texto     |\n",
    "|--------|--------|-----------|\n",
    "| 30     | Branco | Branco    |\n",
    "| 31     | Vermelho | Vermelho |\n",
    "| 32     | Verde  | Verde     |\n",
    "| 33     | Amarelo | Amarelo  |\n",
    "| 34     | Azul   | Azul      |\n",
    "| 35     | Roxo   | Roxo      |\n",
    "| 36     | Ciano  | Ciano     |\n",
    "| 37     | Cinza  | Cinza     |\n",
    "\n",
    "A tabela acima representa as informações fornecidas em um formato organizado."
   ]
  },
  {
   "attachments": {},
   "cell_type": "markdown",
   "metadata": {},
   "source": [
    "# Estruturas de Repetições\n",
    "laço = for\n",
    "in = no\n",
    "\n",
    "Exemplo:\n",
    "```python\n",
    "for c in range(1,10)\n",
    "    passo\n",
    "pega\n",
    "```\n"
   ]
  },
  {
   "attachments": {},
   "cell_type": "markdown",
   "metadata": {},
   "source": [
    "## Estrutura de repetição for\n",
    "É imporante notar que ele ignora o ultimo numero."
   ]
  },
  {
   "cell_type": "code",
   "execution_count": 4,
   "metadata": {},
   "outputs": [
    {
     "name": "stdout",
     "output_type": "stream",
     "text": [
      "1\n",
      "2\n",
      "3\n",
      "4\n",
      "5\n"
     ]
    }
   ],
   "source": [
    "for c in range(1, 6):\n",
    "    print(c)"
   ]
  },
  {
   "cell_type": "code",
   "execution_count": 3,
   "metadata": {},
   "outputs": [
    {
     "name": "stdout",
     "output_type": "stream",
     "text": [
      "Oi\n",
      "Oi\n",
      "Oi\n",
      "Oi\n",
      "Oi\n",
      "Oi\n",
      "Oi\n",
      "Oi\n",
      "Oi\n"
     ]
    }
   ],
   "source": [
    "for c in range(1,10):\n",
    "    print('Oi')"
   ]
  },
  {
   "attachments": {},
   "cell_type": "markdown",
   "metadata": {},
   "source": [
    "Varivel de Controle,\n",
    "Laço de Variavel de controle.\n",
    "Identacao."
   ]
  },
  {
   "cell_type": "code",
   "execution_count": 1,
   "metadata": {},
   "outputs": [
    {
     "name": "stdout",
     "output_type": "stream",
     "text": [
      "Eu gosto de maçã\n",
      "Eu gosto de banana\n",
      "Eu gosto de laranja\n",
      "Eu gosto de uva\n"
     ]
    }
   ],
   "source": [
    "frutas = [\"maçã\", \"banana\", \"laranja\", \"uva\"]\n",
    "\n",
    "for fruta in frutas:\n",
    "    print(\"Eu gosto de\", fruta)\n"
   ]
  },
  {
   "attachments": {},
   "cell_type": "markdown",
   "metadata": {},
   "source": [
    "## Estrutura de repetição while\n",
    "while = enquanto\n",
    "while not = enquanto NAO\n",
    "if = se\n",
    "\n",
    "```python\n",
    "while not x:\n",
    "    if x:\n",
    "        +1\n"
   ]
  },
  {
   "cell_type": "code",
   "execution_count": 7,
   "metadata": {},
   "outputs": [
    {
     "name": "stdout",
     "output_type": "stream",
     "text": [
      "1\n",
      "2\n",
      "3\n",
      "4\n",
      "5\n",
      "6\n",
      "7\n",
      "8\n",
      "9\n",
      "Fim\n"
     ]
    }
   ],
   "source": [
    "for c in range (1,10 ):\n",
    "    print(c)\n",
    "print('Fim')"
   ]
  },
  {
   "cell_type": "code",
   "execution_count": 6,
   "metadata": {},
   "outputs": [
    {
     "name": "stdout",
     "output_type": "stream",
     "text": [
      "1\n",
      "2\n",
      "3\n",
      "4\n",
      "5\n",
      "6\n",
      "7\n",
      "8\n",
      "9\n",
      "Fim\n"
     ]
    }
   ],
   "source": [
    "c = 1\n",
    "while c < 10:\n",
    "    print(c)\n",
    "    c = c + 1\n",
    "print('Fim')"
   ]
  },
  {
   "cell_type": "code",
   "execution_count": null,
   "metadata": {},
   "outputs": [],
   "source": [
    "c = 1\n",
    "data =\n",
    "data_18 = \n",
    "\n",
    "while "
   ]
  },
  {
   "attachments": {},
   "cell_type": "markdown",
   "metadata": {},
   "source": [
    "Claro! A função de repetição `while` em Python é utilizada para criar loops que executam um bloco de código repetidamente enquanto uma condição especificada for verdadeira. A estrutura básica do `while` é a seguinte:\n",
    "\n",
    "```python\n",
    "while condição:\n",
    "    # bloco de código a ser repetido enquanto a condição for verdadeira\n",
    "```\n",
    "\n",
    "Aqui está um exemplo completo que abrange todas as possibilidades da função `while`, juntamente com uma explicação detalhada para cada parte do código:\n",
    "\n",
    "```python\n",
    "# Vamos criar um programa que solicita ao usuário um número inteiro e, em seguida,\n",
    "# calcula a soma dos números inteiros de 1 até o número fornecido pelo usuário.\n",
    "\n",
    "# Passo 1: Solicitar um número inteiro ao usuário\n",
    "numero_fornecido = int(input(\"Digite um número inteiro: \"))\n",
    "\n",
    "# Passo 2: Inicializar variáveis para a soma e o contador\n",
    "soma = 0\n",
    "contador = 1\n",
    "\n",
    "# Passo 3: Criar um loop while com base na condição do contador\n",
    "while contador <= numero_fornecido:\n",
    "    # O bloco de código dentro do loop será executado enquanto a condição for verdadeira\n",
    "    \n",
    "    # Passo 4: Adicionar o valor do contador à soma\n",
    "    soma += contador\n",
    "    \n",
    "    # Passo 5: Incrementar o contador para prosseguir para o próximo número\n",
    "    contador += 1\n",
    "\n",
    "# Passo 6: Exibir o resultado da soma\n",
    "print(f\"A soma dos números de 1 até {numero_fornecido} é {soma}\")\n",
    "```\n",
    "\n",
    "Agora, vamos detalhar cada parte do código:\n",
    "\n",
    "1. **Solicitar um número inteiro ao usuário (`numero_fornecido`):** O programa começa pedindo ao usuário para digitar um número inteiro. A função `input()` é usada para receber a entrada do usuário, e `int()` é usada para converter a entrada em um número inteiro.\n",
    "\n",
    "2. **Inicializar variáveis (`soma` e `contador`):** Duas variáveis são criadas. `soma` será usada para acumular os valores dos números inteiros, e `contador` será usado para acompanhar qual número estamos atualmente somando.\n",
    "\n",
    "3. **Criar um loop while:** Aqui começa o loop `while`. Enquanto a condição `contador <= numero_fornecido` for verdadeira, o bloco de código dentro do loop será executado repetidamente.\n",
    "\n",
    "4. **Adicionar o valor do contador à soma:** Dentro do loop, o valor atual do `contador` é adicionado à variável `soma`.\n",
    "\n",
    "5. **Incrementar o contador:** O valor do `contador` é incrementado em 1 a cada iteração do loop, permitindo que o programa prossiga para o próximo número na sequência.\n",
    "\n",
    "6. **Exibir o resultado:** Após o loop ter terminado, ou seja, quando a condição `contador <= numero_fornecido` for falsa, o programa exibe a soma dos números inteiros de 1 até o número fornecido pelo usuário.\n",
    "\n",
    "Este exemplo abrange todas as fases de um loop `while` em Python: inicialização, condição, bloco de código dentro do loop e atualização. O loop continuará executando até que a condição especificada seja falsa."
   ]
  },
  {
   "cell_type": "markdown",
   "metadata": {},
   "source": [
    "### Interrompendo repetições while"
   ]
  },
  {
   "cell_type": "code",
   "execution_count": null,
   "metadata": {},
   "outputs": [],
   "source": [
    "while True:\n",
    "    if\n",
    "        x\n",
    "    if\n",
    "        y\n",
    "    if \n",
    "        z\n",
    "        break\n",
    "else ?"
   ]
  },
  {
   "cell_type": "code",
   "execution_count": 4,
   "metadata": {},
   "outputs": [
    {
     "name": "stdout",
     "output_type": "stream",
     "text": [
      "1  -> 2  -> 3  -> 4  -> 5  -> 6  -> 7  -> 8  -> 9  -> 10  -> Acabou\n"
     ]
    }
   ],
   "source": [
    "n = 1\n",
    "while n <=10:\n",
    "    print(n,' -> ', end='')\n",
    "    n += 1\n",
    "print('Acabou') "
   ]
  },
  {
   "attachments": {},
   "cell_type": "markdown",
   "metadata": {},
   "source": [
    "### While True,\n",
    "Cuidado ao utilizar um while true, ele ira executar o programa em looping infinito"
   ]
  },
  {
   "cell_type": "code",
   "execution_count": 6,
   "metadata": {},
   "outputs": [
    {
     "name": "stdout",
     "output_type": "stream",
     "text": [
      "A soma vale 134\n"
     ]
    }
   ],
   "source": [
    "n = s =  0\n",
    "while True:\n",
    "    n = int(input('Digite um numero: '))\n",
    "    if n == 999:\n",
    "        break\n",
    "    s += n\n",
    "print('A soma vale {}'.format(s))"
   ]
  },
  {
   "attachments": {},
   "cell_type": "markdown",
   "metadata": {},
   "source": [
    "# Funçoes\n",
    "As funcoes referidas aqui nao sao as funcoes build in, que ja consiste no python, inclusive, é preferivel utilizar as funcoes build in antes de utilizar as tecnicas a seguir afim de melhorar a clareza do codigo, \n",
    "\n",
    "Porem quando nao possivel pode criar um funcao, utilizamos \n",
    "```python \n",
    "def\n",
    "```"
   ]
  },
  {
   "attachments": {},
   "cell_type": "markdown",
   "metadata": {},
   "source": [
    "Em Python, uma função é um bloco de código nomeado que executa uma tarefa específica quando é chamado. Funções são usadas para organizar o código em partes reutilizáveis, melhorando a legibilidade, manutenção e eficiência do programa. Elas permitem que você encapsule uma sequência de instruções em um único nome e a chame sempre que necessário, fornecendo os argumentos apropriados.\n",
    "\n",
    "Principais características das funções em Python:\n",
    "\n",
    "1. **Nome:** As funções têm um nome que as identifica. O nome deve seguir as mesmas regras de nomenclatura de variáveis.\n",
    "\n",
    "2. **Argumentos:** As funções podem receber zero ou mais argumentos, que são os valores que a função usa para executar suas operações.\n",
    "\n",
    "3. **Corpo da Função:** O corpo da função contém as instruções que serão executadas quando a função for chamada. Ele é delimitado por dois pontos e indentação.\n",
    "\n",
    "4. **Retorno (Opcional):** Uma função pode retornar um valor usando a instrução `return`. Se não houver uma declaração `return`, a função retornará automaticamente `None`.\n",
    "\n",
    "Exemplo simples de uma função em Python:\n",
    "\n",
    "```python\n",
    "def saudacao(nome):\n",
    "    \"\"\"Esta função saúda uma pessoa.\"\"\"\n",
    "    print(f\"Olá, {nome}!\")\n",
    "\n",
    "# Chamando a função e passando um argumento\n",
    "saudacao(\"Alice\")  # Saída: Olá, Alice!\n",
    "```\n",
    "\n",
    "Neste exemplo, `saudacao` é o nome da função, e `nome` é um argumento que a função espera. Quando a função é chamada com `\"Alice\"` como argumento, ela exibirá a saudação.\n",
    "\n",
    "Funções em Python permitem modularizar o código, tornando-o mais fácil de entender, testar e manter. Elas são uma parte fundamental da programação orientada a objetos e da programação funcional, e ajudam a promover a reutilização de código e a criação de programas mais organizados."
   ]
  },
  {
   "attachments": {},
   "cell_type": "markdown",
   "metadata": {},
   "source": [
    "# Módulos e Pacotes"
   ]
  },
  {
   "attachments": {},
   "cell_type": "markdown",
   "metadata": {},
   "source": [
    "# Tratamento de Erros e Exceções"
   ]
  },
  {
   "attachments": {},
   "cell_type": "markdown",
   "metadata": {},
   "source": [
    "# Python Basico Linkeadin?\n",
    "\n",
    "## 1. primeiros passos\n",
    "Sobre python\n",
    "Instalando ferramentas no MacOs\n",
    "Instalando ferramentas no Windows\n",
    "AMBIENTE VIRTUAL E PIP\n",
    "Repositórios de exemplos\n",
    "Escrevendo um programa\n",
    "desafio: imprima, durma e imprima\n",
    "Teste de capitulo\n",
    "\n",
    "## 2. visao geral\n",
    "Variaveis e tipos de dados\n",
    "Estrutura de dados\n",
    "Operadores\n",
    "Estruturas de controle\n",
    "Função\n",
    "CLasse e Objetos\n",
    "teste do capitulo\n",
    "\n",
    "## 3. Tipos de dados e valores\n",
    "String\n",
    "Numero (integre)\n",
    "Booleano (boolean)\n",
    "Teste do capitulo\n",
    "\n",
    "## 4. Estrutura de dados\n",
    "Sets e Tuplas\n",
    "listas\n",
    "List comprehension\n",
    "Dicionarios\n",
    "Dictionary comprehension\n",
    "Teste do capitulo\n",
    "\n",
    "## 5. estruturas de controle\n",
    "If - elif - Else\n",
    "Operador ternário\n",
    "For loop\n",
    "While loop\n",
    "Teste do capitulo\n",
    "\n",
    "## 6. Programação orientada a objeto\n",
    "Funções \n",
    "Decoradores\n",
    "Classes\n",
    "Métodos da classe\n",
    "Herança e polimorfismo\n",
    "Teste do capitulo\n",
    "\n",
    "## 7.Erros\n",
    "Erros e exceções\n",
    "Tratamento de exceções\n",
    "Criando exceções\n",
    "\n",
    "## 8. Trabalhando com arquivos\n",
    "Abrindo, lendo e escrevendo arquivos\n",
    "Lendo e criando CSV\n",
    "Requisições HTTP\n",
    "\n",
    "\n",
    "\n",
    "\n"
   ]
  },
  {
   "cell_type": "code",
   "execution_count": null,
   "metadata": {},
   "outputs": [],
   "source": [
    "# Python Basico Linkeadin?"
   ]
  },
  {
   "attachments": {},
   "cell_type": "markdown",
   "metadata": {},
   "source": [
    "# Decoratores\n",
    "Em Python, um decorador é uma função especial que é usada para modificar ou aprimorar outra função ou método. Eles permitem que você adicione comportamentos extras a funções ou métodos existentes sem modificar seu código interno. Os decoradores são frequentemente usados para tarefas como registro, validação, controle de acesso, medição de desempenho e muito mais.\n",
    "\n",
    "Os decoradores são aplicados usando a sintaxe `@nome_do_decorador` acima da definição de uma função. Eles podem ser definidos como funções regulares ou como classes que implementam os métodos especiais `__call__`.\n",
    "\n",
    "Aqui está um exemplo simples de um decorador que mede o tempo de execução de uma função:\n",
    "\n",
    "```python\n",
    "import time\n",
    "\n",
    "def tempo_de_execucao(funcao):\n",
    "    def wrapper(*args, **kwargs):\n",
    "        inicio = time.time()\n",
    "        resultado = funcao(*args, **kwargs)\n",
    "        fim = time.time()\n",
    "        print(f\"A função {funcao.__name__} levou {fim - inicio} segundos para executar.\")\n",
    "        return resultado\n",
    "    return wrapper\n",
    "\n",
    "@tempo_de_execucao\n",
    "def funcao_demorada():\n",
    "    time.sleep(2)\n",
    "    print(\"Função executada!\")\n",
    "\n",
    "funcao_demorada()\n",
    "```\n",
    "\n",
    "Neste exemplo, `tempo_de_execucao` é um decorador que mede o tempo de execução da função `funcao_demorada`. Quando `funcao_demorada` é chamada, na verdade é a função interna `wrapper` definida dentro de `tempo_de_execucao` que é executada. Ela mede o tempo antes e depois de chamar a função original e imprime o tempo de execução.\n",
    "\n",
    "Decoradores são uma poderosa ferramenta em Python para adicionar funcionalidades a funções de maneira modular e reutilizável. Eles são amplamente usados em frameworks web, sistemas de log, validação de entrada e muitos outros contextos."
   ]
  },
  {
   "attachments": {},
   "cell_type": "markdown",
   "metadata": {},
   "source": [
    "## Flask \n",
    "Claro! O Flask é um popular framework web em Python que utiliza amplamente o conceito de decoradores para criar rotas e definir comportamentos em diferentes partes de uma aplicação web.\n",
    "\n",
    "No Flask, os decoradores são usados para mapear URLs para funções que serão executadas quando uma solicitação é feita para essa URL específica. Aqui está um exemplo simples de como os decoradores são usados no Flask:\n",
    "\n",
    "```python\n",
    "from flask import Flask\n",
    "\n",
    "app = Flask(__name__)\n",
    "\n",
    "@app.route('/')\n",
    "def index():\n",
    "    return 'Página inicial'\n",
    "\n",
    "@app.route('/about')\n",
    "def about():\n",
    "    return 'Sobre nós'\n",
    "\n",
    "if __name__ == '__main__':\n",
    "    app.run()\n",
    "```\n",
    "\n",
    "Neste exemplo, os decoradores `@app.route('/')` e `@app.route('/about')` são usados para associar as funções `index()` e `about()` às URLs \"/\" e \"/about\" respectivamente. Quando um usuário acessa essas URLs em um navegador, as funções correspondentes são chamadas e o conteúdo retornado por elas é exibido na página.\n",
    "\n",
    "O Flask também permite criar seus próprios decoradores personalizados para adicionar funcionalidades extras às rotas, como autenticação, controle de acesso, tratamento de erros, entre outros. Essa estrutura baseada em decoradores torna a construção de aplicativos web mais organizada e modular.\n",
    "\n",
    "Portanto, a relação entre os decoradores que você viu enquanto tentava usar o Flask e os decoradores em geral é que o Flask usa decoradores para mapear URLs a funções de tratamento de solicitações, permitindo que você construa aplicativos web de maneira concisa e elegante."
   ]
  },
  {
   "attachments": {},
   "cell_type": "markdown",
   "metadata": {},
   "source": [
    "# Classes"
   ]
  },
  {
   "attachments": {},
   "cell_type": "markdown",
   "metadata": {},
   "source": [
    "# Método de Classes"
   ]
  },
  {
   "attachments": {},
   "cell_type": "markdown",
   "metadata": {},
   "source": [
    "# Herança e Poliformismo"
   ]
  },
  {
   "attachments": {},
   "cell_type": "markdown",
   "metadata": {},
   "source": [
    "# Erros e exceções"
   ]
  },
  {
   "attachments": {},
   "cell_type": "markdown",
   "metadata": {},
   "source": [
    "## Tratamento de exceções"
   ]
  },
  {
   "attachments": {},
   "cell_type": "markdown",
   "metadata": {},
   "source": [
    "## Criando exceções"
   ]
  },
  {
   "attachments": {},
   "cell_type": "markdown",
   "metadata": {},
   "source": [
    "# CSV\n",
    "CSV (Comma-Separated Values) não é exatamente uma linguagem de programação, mas sim um formato de arquivo amplamente utilizado para armazenar dados tabulares de maneira simples e eficiente. É mais correto classificá-lo como um formato de intercâmbio de dados.\n",
    "\n",
    "CSV é uma forma de representar dados em forma de tabela, onde cada linha do arquivo representa um registro ou entrada e os valores são separados por vírgulas (ou outro caractere delimitador, como ponto e vírgula). Cada linha é uma entrada separada, e os valores são organizados em colunas correspondentes.\n",
    "\n",
    "Por exemplo, um arquivo CSV que armazena informações sobre pessoas com nome, idade e cidade de residência pode parecer assim:\n",
    "\n",
    "```\n",
    "Nome,Idade,Cidade\n",
    "João,25,São Paulo\n",
    "Maria,32,Rio de Janeiro\n",
    "Carlos,19,Belo Horizonte\n",
    "```\n",
    "\n",
    "Nesse exemplo, as colunas são \"Nome\", \"Idade\" e \"Cidade\", e cada linha representa uma pessoa diferente com os valores correspondentes.\n",
    "\n",
    "O CSV é muito utilizado para transferir dados entre diferentes sistemas, como bancos de dados, planilhas eletrônicas e aplicativos de análise de dados. Embora seja um formato simples, é importante observar que ele não possui uma estrutura formal para definição de tipos de dados ou esquema, o que pode levar a ambiguidades ou problemas de interpretação se não for utilizado de maneira adequada."
   ]
  },
  {
   "attachments": {},
   "cell_type": "markdown",
   "metadata": {},
   "source": [
    "Sim, você está correto. Em Python, o módulo `csv` é um módulo auxiliar que vem com a instalação padrão do Python e oferece funcionalidades para trabalhar com arquivos CSV. Assim como o módulo `math`, o módulo `csv` é uma biblioteca interna que fornece ferramentas específicas para lidar com operações relacionadas a arquivos CSV.\n",
    "\n",
    "Enquanto o módulo `math` é usado para realizar operações matemáticas avançadas, como cálculos trigonométricos, logarítmicos e muito mais, o módulo `csv` é usado para ler e escrever dados em formato CSV.\n",
    "\n",
    "Por exemplo, para importar o módulo `csv` em um programa Python, você usaria:\n",
    "\n",
    "```python\n",
    "import csv\n",
    "```\n",
    "\n",
    "Isso torna as funções e classes do módulo `csv` acessíveis em seu código, permitindo que você leia e escreva arquivos CSV de maneira conveniente.\n",
    "\n",
    "Em resumo, enquanto ambos os módulos (`math` e `csv`) são módulos auxiliares que fazem parte da biblioteca padrão do Python, eles têm finalidades diferentes: `math` para operações matemáticas e `csv` para operações de leitura e escrita de arquivos CSV."
   ]
  },
  {
   "cell_type": "code",
   "execution_count": 26,
   "metadata": {},
   "outputs": [],
   "source": [
    "import csv"
   ]
  },
  {
   "attachments": {},
   "cell_type": "markdown",
   "metadata": {},
   "source": [
    "with open('....csv', 'r') as arquivo_csv:"
   ]
  },
  {
   "attachments": {},
   "cell_type": "markdown",
   "metadata": {},
   "source": [
    "# Requisições HTTP\n",
    "Requisições HTTP em Python referem-se ao processo de enviar solicitações para servidores da web usando o protocolo HTTP (Hypertext Transfer Protocol) por meio de código Python. Isso permite que você obtenha informações de recursos da web, como páginas da web, APIs (interfaces de programação de aplicativos) e outros serviços online.\n",
    "\n",
    "Para fazer requisições HTTP em Python, você geralmente utiliza uma biblioteca chamada `requests`. Essa biblioteca oferece métodos e funcionalidades para criar, enviar e processar solicitações HTTP de forma fácil e eficiente.\n",
    "\n",
    "Aqui está um exemplo básico de como fazer uma requisição HTTP GET usando a biblioteca `requests`:\n",
    "\n",
    "```python\n",
    "import requests\n",
    "\n",
    "url = 'https://exemplo.com/recurso'  # Substitua pelo URL real\n",
    "response = requests.get(url)\n",
    "\n",
    "if response.status_code == 200:\n",
    "    print(\"Requisição bem-sucedida!\")\n",
    "    print(\"Conteúdo da resposta:\")\n",
    "    print(response.text)\n",
    "else:\n",
    "    print(f\"Erro na requisição. Código de status: {response.status_code}\")\n",
    "```\n",
    "\n",
    "Neste exemplo, o método `requests.get()` é usado para enviar uma solicitação GET ao URL especificado. O objeto `response` contém a resposta do servidor, incluindo informações como o código de status HTTP e o conteúdo da resposta.\n",
    "\n",
    "Além do método GET, a biblioteca `requests` também suporta outros métodos HTTP, como POST, PUT, DELETE, etc., para diferentes tipos de interações com recursos da web.\n",
    "\n",
    "Lembre-se de que, para usar a biblioteca `requests`, você deve instalá-la primeiro usando o seguinte comando:\n",
    "\n",
    "```\n",
    "pip install requests\n",
    "```\n",
    "\n",
    "Isso permitirá que você utilize as funcionalidades da biblioteca em seus scripts Python para lidar com requisições e respostas HTTP."
   ]
  },
  {
   "attachments": {},
   "cell_type": "markdown",
   "metadata": {},
   "source": [
    "O Protocolo de Transferência de Hipertexto, ou HTTP (Hypertext Transfer Protocol), é um protocolo de comunicação utilizado para a transferência de dados na World Wide Web (WWW). Ele é a base para a comunicação entre navegadores da web (clientes) e servidores da web, permitindo que as solicitações sejam feitas por informações, recursos ou serviços e que as respostas sejam enviadas de volta.\n",
    "\n",
    "O HTTP opera em um modelo cliente-servidor, onde o cliente (geralmente um navegador da web) faz solicitações a um servidor e espera receber respostas. As solicitações e respostas são formatadas em mensagens, com cada mensagem contendo um cabeçalho e, opcionalmente, um corpo de dados.\n",
    "\n",
    "As principais características do HTTP incluem:\n",
    "\n",
    "1. **Stateless:** O HTTP é um protocolo stateless, o que significa que cada solicitação é tratada independentemente, sem que o servidor mantenha informações sobre solicitações anteriores do mesmo cliente. Isso pode levar a problemas de gerenciamento de sessões, que são frequentemente resolvidos usando cookies ou outras técnicas.\n",
    "\n",
    "2. **Métodos de requisição:** O HTTP define vários métodos de requisição, como GET, POST, PUT, DELETE, etc. Cada método tem um propósito específico, por exemplo, o GET é usado para obter dados, enquanto o POST é usado para enviar dados para o servidor.\n",
    "\n",
    "3. **Códigos de status:** As respostas do servidor incluem códigos de status que indicam o resultado da solicitação. Por exemplo, o código 200 indica uma resposta bem-sucedida, enquanto o código 404 indica que o recurso não foi encontrado.\n",
    "\n",
    "4. **Cabeçalhos:** Tanto as solicitações quanto as respostas HTTP podem incluir cabeçalhos, que fornecem informações adicionais sobre a solicitação ou a resposta. Esses cabeçalhos podem ser usados para passar informações como tipo de conteúdo, autenticação, cache, etc.\n",
    "\n",
    "5. **URLs:** Os URLs (Uniform Resource Locators) são usados para identificar recursos na web. Eles especificam o endereço do recurso e o protocolo a ser usado para acessá-lo.\n",
    "\n",
    "6. **Segurança:** O HTTP original não é um protocolo seguro, o que significa que os dados transferidos podem ser interceptados por terceiros. Para fornecer segurança na transmissão de dados, é comum usar o HTTPS (HTTP Secure), que adiciona uma camada de criptografia por meio do SSL/TLS.\n",
    "\n",
    "O HTTP é fundamental para a navegação na web e para a interação entre aplicativos e serviços online. É a base para a maioria das atividades que realizamos ao acessar websites, fazer pesquisas, enviar e receber informações por meio de formulários e interagir com APIs."
   ]
  },
  {
   "cell_type": "code",
   "execution_count": 27,
   "metadata": {},
   "outputs": [
    {
     "name": "stdout",
     "output_type": "stream",
     "text": [
      "Requirement already satisfied: requests in /Library/Frameworks/Python.framework/Versions/3.11/lib/python3.11/site-packages (2.28.2)\n",
      "Requirement already satisfied: charset-normalizer<4,>=2 in /Library/Frameworks/Python.framework/Versions/3.11/lib/python3.11/site-packages (from requests) (3.1.0)\n",
      "Requirement already satisfied: idna<4,>=2.5 in /Library/Frameworks/Python.framework/Versions/3.11/lib/python3.11/site-packages (from requests) (3.4)\n",
      "Requirement already satisfied: urllib3<1.27,>=1.21.1 in /Library/Frameworks/Python.framework/Versions/3.11/lib/python3.11/site-packages (from requests) (1.26.15)\n",
      "Requirement already satisfied: certifi>=2017.4.17 in /Library/Frameworks/Python.framework/Versions/3.11/lib/python3.11/site-packages (from requests) (2022.12.7)\n",
      "Note: you may need to restart the kernel to use updated packages.\n"
     ]
    }
   ],
   "source": [
    "pip install requests"
   ]
  },
  {
   "cell_type": "code",
   "execution_count": 28,
   "metadata": {},
   "outputs": [
    {
     "name": "stdout",
     "output_type": "stream",
     "text": [
      "Nome: Leanne Graham\n",
      "E-mail: Sincere@april.biz\n",
      "Cidade: Gwenborough\n"
     ]
    }
   ],
   "source": [
    "import requests\n",
    "\n",
    "# URL da API JSONPlaceholder para obter informações de um usuário específico (ID 1)\n",
    "url = 'https://jsonplaceholder.typicode.com/users/1'\n",
    "\n",
    "# Fazendo a requisição GET para obter os dados do usuário\n",
    "response = requests.get(url)\n",
    "\n",
    "# Verificando o código de status da resposta\n",
    "if response.status_code == 200:\n",
    "    # Convertendo a resposta JSON para um dicionário Python\n",
    "    user_data = response.json()\n",
    "\n",
    "    # Extraindo informações do dicionário\n",
    "    name = user_data['name']\n",
    "    email = user_data['email']\n",
    "    city = user_data['address']['city']\n",
    "\n",
    "    # Imprimindo informações do usuário\n",
    "    print(f\"Nome: {name}\")\n",
    "    print(f\"E-mail: {email}\")\n",
    "    print(f\"Cidade: {city}\")\n",
    "else:\n",
    "    print(f\"Erro na requisição. Código de status: {response.status_code}\")\n"
   ]
  }
 ],
 "metadata": {
  "kernelspec": {
   "display_name": "Python 3",
   "language": "python",
   "name": "python3"
  },
  "language_info": {
   "codemirror_mode": {
    "name": "ipython",
    "version": 3
   },
   "file_extension": ".py",
   "mimetype": "text/x-python",
   "name": "python",
   "nbconvert_exporter": "python",
   "pygments_lexer": "ipython3",
   "version": "3.11.1"
  },
  "orig_nbformat": 4
 },
 "nbformat": 4,
 "nbformat_minor": 2
}
