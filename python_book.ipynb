{
 "cells": [
  {
   "attachments": {},
   "cell_type": "markdown",
   "metadata": {},
   "source": [
    "# Instruções Iniciais\n",
    "Este repositorio esta configurado para armazenar um livro em Jupyter notebook a fim de explicar claramente o uso de Python do inicio ao fim no que compreende o total do conhecimento do autor, na atual versão temos apenas 2 arquivos:\n",
    "- Python_book.ipynb, O arquivo que esta lendo no momento.\n",
    "- Atividades.ipynb, Uma coleção de atividades compiladas da internet e respondidas, como uma biblioteca de usos de codigo que vai do mais simples ao mais facil, a edição atual compreende as atividades do Curso em Video Python Mundo 1 do Gustavo Guanabara.\n",
    "- Respostas.ipynb, arquivo onde constam todas as respostas das atividades para caso haja duvidas."
   ]
  },
  {
   "attachments": {},
   "cell_type": "markdown",
   "metadata": {},
   "source": [
    "# Funcoes e Modulos\n",
    "Uma função em Python é um bloco de código nomeado que realiza uma tarefa específica. Ela pode receber argumentos (dados de entrada), processá-los e retornar um valor (dados de saída). As funções ajudam a modularizar o código, tornando-o mais legível, reutilizável e organizado.\n",
    "Em Python, existem três tipos principais de funções:\n",
    "\n",
    "- Funções Integradas (Built-in Functions): São funções que já vêm embutidas na linguagem e podem ser usadas diretamente sem a necessidade de importar módulos adicionais. Algumas funções integradas comuns incluem print(), len(), type(), int(), str(), entre outras. Elas fornecem funcionalidades básicas e essenciais para a programação em Python.\n",
    "\n",
    "- Funções Definidas pelo Usuário: São funções que você mesmo cria para realizar tarefas específicas. Você pode definir suas próprias funções usando a palavra-chave def e dar um nome significativo à função. As funções definidas pelo usuário podem receber argumentos, executar um bloco de código e retornar valores.\n",
    "\n",
    "- Funções de Bibliotecas (Library Functions): Essas são funções que não fazem parte do núcleo da linguagem, mas estão disponíveis em bibliotecas (módulos) específicas. Para usar essas funções, você precisa importar o módulo relevante. Exemplos incluem as funções matemáticas do módulo math, as funções de manipulação de arquivos do módulo os, etc."
   ]
  },
  {
   "cell_type": "markdown",
   "metadata": {},
   "source": [
    "Além desses três tipos principais, algumas funções têm propriedades especiais:\n",
    "\n",
    "- Funções Anônimas (Lambda Functions): São funções pequenas e sem nome que podem ser usadas para operações simples. Elas são definidas usando a palavra-chave lambda.\n",
    "\n",
    "- Funções Recursivas: São funções que chamam a si mesmas em seu próprio processo. São úteis para resolver problemas que podem ser divididos em subproblemas semelhantes.\n",
    "\n",
    "- Funções Geradoras (Generator Functions): São funções especiais que retornam um gerador, permitindo a criação de sequências de valores sob demanda, economizando memória.\n",
    "\n",
    "Cada tipo de função tem seu próprio propósito e uso. As funções integradas e as funções de bibliotecas fornecem uma ampla gama de funcionalidades prontas para uso, enquanto as funções definidas pelo usuário permitem que você crie código personalizado e modular para atender às suas necessidades específicas."
   ]
  },
  {
   "attachments": {},
   "cell_type": "markdown",
   "metadata": {},
   "source": [
    "# Variaveis\n",
    "- Variáveis em Python são usadas para armazenar valores. Elas são declaradas com um nome e podem conter diferentes tipos de dados, como números, strings e objetos. Atribuímos valores às variáveis usando o sinal de igual (=)."
   ]
  },
  {
   "cell_type": "code",
   "execution_count": null,
   "metadata": {},
   "outputs": [],
   "source": [
    "l = 'letra'\n",
    "n = 50"
   ]
  },
  {
   "attachments": {},
   "cell_type": "markdown",
   "metadata": {},
   "source": [
    "# Built-in Functions/Funções Embutidas\n",
    "As funções embutidas, também conhecidas como funções integradas ou built-in functions, são funções pré-definidas na linguagem de programação Python. Elas fazem parte do próprio Python e estão disponíveis para uso imediato, sem a necessidade de importar módulos adicionais. Essas funções são componentes essenciais da linguagem e oferecem funcionalidades básicas que são amplamente utilizadas em tarefas de programação comuns."
   ]
  },
  {
   "attachments": {},
   "cell_type": "markdown",
   "metadata": {},
   "source": [
    "## Funcoes Build in - Variaveis 1"
   ]
  },
  {
   "attachments": {},
   "cell_type": "markdown",
   "metadata": {},
   "source": [
    "### print()\n",
    "A função print() é usada para exibir informações na saída padrão, que normalmente é o console onde você está executando o código. Ela aceita um ou mais argumentos separados por vírgulas e os exibe como texto na saída."
   ]
  },
  {
   "cell_type": "code",
   "execution_count": null,
   "metadata": {},
   "outputs": [],
   "source": [
    "print(n)\n",
    "print(l)"
   ]
  },
  {
   "cell_type": "code",
   "execution_count": null,
   "metadata": {},
   "outputs": [],
   "source": [
    "nome = \"Alice\"\n",
    "idade = 30\n",
    "print(\"Olá,\", nome, \"sua idade é\", idade)\n",
    "# Isso imprimirá: Olá, Alice sua idade é 30\n"
   ]
  },
  {
   "cell_type": "markdown",
   "metadata": {},
   "source": [
    "É possivel utilizar tambem o /n para adicionar quebras ao print, por exemplo"
   ]
  },
  {
   "cell_type": "code",
   "execution_count": null,
   "metadata": {},
   "outputs": [],
   "source": [
    "# Usando o caractere especial \\n para criar quebras de linha\n",
    "linha1 = \"Esta é a linha 1.\"\n",
    "linha2 = \"Esta é a linha 2.\"\n",
    "linha3 = \"Esta é a linha 3.\"\n",
    "\n",
    "# Concatenando as linhas com \\n para criar um texto multilinha\n",
    "texto_multilinha = linha1 + \"\\n\" + linha2 + \"\\n\" + linha3\n",
    "\n",
    "# Imprimindo o texto multilinha\n",
    "print(texto_multilinha)\n"
   ]
  },
  {
   "attachments": {},
   "cell_type": "markdown",
   "metadata": {},
   "source": [
    "### input()\n",
    "A função input() é usada para obter entradas do usuário. Ela exibe uma mensagem (prompt) na tela e espera que o usuário digite algo. Quando o usuário pressiona a tecla \"Enter\", o que foi digitado é retornado como uma **string**.\n",
    "- Lembre que valor retornado por input() é sempre uma string e precisa ser tratado."
   ]
  },
  {
   "cell_type": "code",
   "execution_count": null,
   "metadata": {},
   "outputs": [
    {
     "name": "stdout",
     "output_type": "stream",
     "text": [
      "10\n"
     ]
    }
   ],
   "source": [
    "n = input(\"Digite um numero a ser exibida: \")\n",
    "print(n)"
   ]
  },
  {
   "cell_type": "code",
   "execution_count": null,
   "metadata": {},
   "outputs": [],
   "source": [
    "nome = input(\"Digite o seu nome: \")\n",
    "print(\"Olá,\", nome, \"! Bem-vindo!\")\n"
   ]
  },
  {
   "attachments": {},
   "cell_type": "markdown",
   "metadata": {},
   "source": [
    "### format()\n",
    "A função format() é usada para formatar uma string, substituindo marcadores de posição (chamados de \"placeholders\") pelos valores especificados. Isso é especialmente útil quando você deseja criar strings complexas ou formatar saídas. Veja um exemplo:"
   ]
  },
  {
   "cell_type": "code",
   "execution_count": null,
   "metadata": {},
   "outputs": [],
   "source": [
    "nome = \"Alice\"\n",
    "idade = 30\n",
    "mensagem = \"Olá, {}. Você tem {} anos.\".format(nome, idade)\n",
    "print(mensagem)  # Isso imprimirá: Olá, Alice. Você tem 30 anos."
   ]
  },
  {
   "cell_type": "markdown",
   "metadata": {},
   "source": [
    "É possivel utilizar tambem de formatacoes diferentes utilizando .format, como por exemplo:"
   ]
  },
  {
   "cell_type": "code",
   "execution_count": null,
   "metadata": {},
   "outputs": [],
   "source": [
    "nome = \"Alice\"\n",
    "idade = 30\n",
    "mensagem = \"Olá, {:.3f}. Você tem {:.2f} anos.\".format(nome, idade)\n",
    "print(mensagem)  # Isso imprimirá: Olá, Alice. Você tem 30 anos."
   ]
  },
  {
   "attachments": {},
   "cell_type": "markdown",
   "metadata": {},
   "source": [
    "### isnumeric():\n",
    "\n",
    "A função isnumeric() é usada para verificar se uma string contém apenas caracteres numéricos. Ela retorna True se todos os caracteres da string forem numéricos e False caso contrário. Veja um exemplo:"
   ]
  },
  {
   "cell_type": "code",
   "execution_count": null,
   "metadata": {},
   "outputs": [],
   "source": [
    "numero_str = \"12345\"\n",
    "if numero_str.isnumeric():\n",
    "    print(\"A string contém apenas dígitos numéricos.\")\n",
    "else:\n",
    "    print(\"A string não contém apenas dígitos numéricos.\")\n"
   ]
  },
  {
   "attachments": {},
   "cell_type": "markdown",
   "metadata": {},
   "source": [
    "# Contagem no Python\n",
    "É imporante notar que ele ignora o ultimo numero."
   ]
  },
  {
   "attachments": {},
   "cell_type": "markdown",
   "metadata": {},
   "source": [
    "# Primitive Types/Tipos primitivos\n",
    "**Tipos primitivos**\n",
    "O que sao strings (str)\n",
    ", intigre (int),  \n",
    "float (float)\n",
    "booleans (bool)\n",
    "\n",
    "Funcao type, exemplo print\n",
    "\n",
    "Funçao .format\n",
    "Exemplo print('A soma entre {} e {} vale {}'.format(x,y,z))\n",
    "\n",
    "Fucnoes de metodo de tipo, como print(z.isnum(input?))"
   ]
  },
  {
   "cell_type": "markdown",
   "metadata": {},
   "source": [
    "O que sao strings, int, float e booleans.\n",
    "Strings sao textos precisam ter aspas seguidas para utilizar no print.\n",
    "\n",
    "int sao integrais, nao precisam de aspas entre aspas, e voce pode realizar contas dentro, como por exemplo: \n",
    "``` python\n",
    "print(7+4), vai retornar 11.\n",
    "``` \n",
    "\n",
    "Voce pode adicionar os valores como strings, usando as ''.\n",
    "```python\n",
    "print('7'+'4'), ele ira retornar 74, como a soma do texto 7 e do texto 4.\n",
    "```\n",
    "\n",
    "Porem voce nao consegue adicionar 2 campos diferente, como:\n",
    "```python\n",
    "print('Ola' + 5), ele era retornar um erro.\n",
    "```\n",
    "Para ter esse print sera necessario utilizar da seguinte forma:\n",
    "```python\n",
    "print('Ola' , 5)\n",
    "```\n",
    "\n",
    "Podemos utilizar o modo interativo usando a funcao input, usando \n",
    "nome = input('Qual seu nome?')\n",
    "\n",
    "**Tipos primitivos**\n",
    "O que sao strings (str)\n",
    ", intigre (int),  \n",
    "float (float)\n",
    "booleans (bool)\n",
    "\n",
    "Funcao type, exemplo print\n",
    "\n",
    "Funçao .format\n",
    "Exemplo print('A soma entre {} e {} vale {}'.format(x,y,z))\n",
    "\n",
    "Fucnoes de metodo de tipo, como print(z.isnum(input?))"
   ]
  },
  {
   "cell_type": "markdown",
   "metadata": {},
   "source": [
    "int sao integrais, nao precisam de aspas entre aspas, e voce pode realizar contas dentro, como por exemplo: \n",
    "``` python\n",
    "print(7+4), vai retornar 11."
   ]
  },
  {
   "cell_type": "code",
   "execution_count": null,
   "metadata": {},
   "outputs": [],
   "source": [
    "# int sao integrais, nao precisam de aspas entre aspas, e voce pode realizar contas dentro, como por exemplo: \n",
    "print(7+4) #, vai retornar 11."
   ]
  },
  {
   "cell_type": "markdown",
   "metadata": {},
   "source": [
    "Voce pode adicionar os valores como strings, usando as ''.\n",
    "```python\n",
    "print('7'+'4'), ele ira retornar 74, como a soma do texto 7 e do texto 4.\n",
    "```"
   ]
  },
  {
   "cell_type": "code",
   "execution_count": null,
   "metadata": {},
   "outputs": [],
   "source": [
    "#Voce pode adicionar os valores como strings, usando as ''.\n",
    "print('7'+'4') #, ele ira retornar 74, como a soma do texto 7 e do texto 4."
   ]
  },
  {
   "cell_type": "markdown",
   "metadata": {},
   "source": [
    "Porem voce nao consegue adicionar 2 campos diferente, como:\n",
    "```python\n",
    "print('Ola' + 5), ele era retornar um erro."
   ]
  },
  {
   "cell_type": "code",
   "execution_count": null,
   "metadata": {},
   "outputs": [],
   "source": [
    "# Porem voce nao consegue adicionar 2 campos diferente, como:\n",
    "print('Ola' + 5) #, ele era retornar um erro."
   ]
  },
  {
   "cell_type": "markdown",
   "metadata": {},
   "source": [
    "Para ter esse print sera necessario utilizar da seguinte forma:\n",
    "```python\n",
    "print('Ola' , 5)\n",
    "```"
   ]
  },
  {
   "cell_type": "code",
   "execution_count": null,
   "metadata": {},
   "outputs": [],
   "source": [
    "print('Ola',5)"
   ]
  },
  {
   "attachments": {},
   "cell_type": "markdown",
   "metadata": {},
   "source": [
    "# Arrays/Listas\n",
    "Pense em uma lista como uma caixa onde você pode guardar várias coisas, como brinquedos. Cada brinquedo é um \"elemento\" da lista. Você pode adicionar mais brinquedos, tirar brinquedos, ou até mesmo trocar um brinquedo por outro.\n",
    "\n",
    "Um array é como uma estante organizada, onde você coloca livros. Cada livro é um \"elemento\" do array. Os livros têm números que indicam onde estão na estante, então você pode pegar um livro diretamente usando o número certo.\n",
    "\n",
    "No mundo da programação, listas e arrays funcionam de maneira parecida. Uma lista é uma coleção de coisas, e cada coisa é um elemento. Em uma lista, você pode adicionar, remover ou trocar elementos facilmente. Um array é uma forma específica de lista, onde os elementos estão organizados por números, tornando mais eficiente encontrar um elemento específico.\n",
    "\n",
    "Lembre-se, no Python, usamos principalmente listas para armazenar coleções de elementos, e se precisamos de funcionalidades mais avançadas para cálculos numéricos, podemos recorrer à biblioteca NumPy e seus arrays."
   ]
  },
  {
   "attachments": {},
   "cell_type": "markdown",
   "metadata": {},
   "source": [
    "# Operadores Aritmeticos\n",
    "- (=) É utilizado para armazenar dados, se eu utilizo pessoa = 5, eu estou armazenando o dado 5 na classe pessoa.\n",
    "\n",
    "- (==) É utilizado como sinal de igualdade de fato, é importante ter isso em vista quando vai filtrar alguma informação.\n",
    "Por exemplo, idades = 5 armazenaria o dado 5 em idades, enquanto idades == 5 vai iria trazer a igualdade.\n",
    "\n",
    "- (+) Adição\n",
    "Exemplo: 5+2 == 7\n",
    "\n",
    "- (-) Subtração\n",
    "5-2 == 3\n",
    "\n",
    "- (*) Multiplicacão\n",
    "5*2 == 10\n",
    "\n",
    "- (/) Divisão\n",
    "5/2 == 2.5\n",
    "\n",
    "- (**) Potencia\n",
    "5**2 == 25\n",
    "É possivel utilizar a funcao pow tb, seguido dos numeros pow(5,2)\n",
    "\n",
    "- (//) Divisao Inteira - Se eu divir 5/2 usando metodo de divisao, eu botaria 2, e 2*2=4, ou seja Resta 1.\n",
    "2 Passa a ser o Inteiro da divisao, podendo ser percebido até mesmo como 2.5 em inteiro, 2.\n",
    "5//2 ==2\n",
    "\n",
    "\n",
    "- (%) Resto da divisão - É o resto que sobre da divsão entre 5/2, 1.\n",
    "5%2 == 1\n",
    "\n",
    "- (+=) ???\n",
    "s = s + n == s+=n\n",
    " "
   ]
  },
  {
   "cell_type": "markdown",
   "metadata": {},
   "source": [
    "#### Ordem de Precendencia\n",
    "1. ()\n",
    "2. **\n",
    "3. * . / . // . %\n",
    "4. + . -"
   ]
  },
  {
   "cell_type": "code",
   "execution_count": null,
   "metadata": {},
   "outputs": [],
   "source": [
    "5+3*2"
   ]
  },
  {
   "cell_type": "code",
   "execution_count": null,
   "metadata": {},
   "outputs": [],
   "source": [
    "3*5+4**2"
   ]
  },
  {
   "cell_type": "code",
   "execution_count": null,
   "metadata": {},
   "outputs": [],
   "source": [
    "3*(5+4)**2"
   ]
  },
  {
   "cell_type": "code",
   "execution_count": null,
   "metadata": {},
   "outputs": [],
   "source": [
    "9**9"
   ]
  },
  {
   "cell_type": "code",
   "execution_count": null,
   "metadata": {},
   "outputs": [],
   "source": []
  },
  {
   "cell_type": "markdown",
   "metadata": {},
   "source": [
    "### Librarys/Bibliotecas\n",
    "Sao conjutos de Modulos com propositos especificos, e que necessitam ser instalados via pip install."
   ]
  },
  {
   "cell_type": "markdown",
   "metadata": {},
   "source": [
    "### Módulos\n",
    "Comandos import é necessario para trazer determinadas funcoes\n",
    "\n",
    "Comandos from x import y para filtrar exatamente o que se quer utilizar.\n",
    "\n",
    "Biblioteca math\n",
    ".ceil\n",
    ".floor\n",
    ".trunc\n",
    ".pow\n",
    ".sqrt\n",
    ".factorial"
   ]
  },
  {
   "attachments": {},
   "cell_type": "markdown",
   "metadata": {},
   "source": [
    "# Manipulating Text\n",
    "\n",
    "- Fatiamento de Strings\n",
    "We're going to learn operations with strings in Python in this class. The main operations that we're going to see are Slicing, len() analysis, count(), find(), transformation using replace(), upper(), lower(), capitalize(), title(), strip(), merging with join().\n",
    "\n",
    "frase[9:12]\n",
    "frase = Curso em Video Python \n",
    "- Contar cada letra e espaco como um numero, 9:14 equivale a video \n",
    "\n"
   ]
  },
  {
   "attachments": {},
   "cell_type": "markdown",
   "metadata": {},
   "source": [
    "### Funcoes de transformações.\n",
    "\n",
    "- len()\n",
    "\n",
    "- analysis\n",
    "\n",
    "- count()\n",
    "frase.count('o')\n",
    "frase.count('o', 0, 13)\n",
    "\n",
    "- find()\n",
    "\n",
    "- replace()\n",
    "\n",
    "- upper()\n",
    "\n",
    "- lower()\n",
    "\n",
    "- capitalize()\n",
    "\n",
    "- title()\n",
    "\n",
    "- strip()\n",
    "\n",
    "- join()\n"
   ]
  },
  {
   "cell_type": "markdown",
   "metadata": {},
   "source": [
    "\n",
    "### Metodos\n",
    "Todo metodo leva parentenses no final?\n",
    "\n",
    "Em Python, métodos são funções que estão associadas a objetos. Eles permitem que você realize operações específicas em um objeto ou modifique o objeto de alguma forma. Métodos são parte fundamental da programação orientada a objetos (POO) e são usados para encapsular lógica e funcionalidades relacionadas a um objeto específico.\n",
    "\n",
    "Cada tipo de objeto em Python pode ter seus próprios métodos, que podem ser acessados através da notação de ponto (`.`). Por exemplo, se você tem uma variável `x` que é uma lista, você pode chamar métodos específicos de lista usando a sintaxe `x.metodo()`.\n",
    "\n",
    "Por exemplo, considere uma lista chamada `my_list`:\n",
    "\n",
    "```python\n",
    "my_list = [1, 2, 3, 4, 5]\n",
    "```\n",
    "\n",
    "Aqui estão alguns exemplos de métodos que você pode usar com listas:\n",
    "\n",
    "1. `append(valor)`: Adiciona um valor ao final da lista.\n",
    "```python\n",
    "my_list.append(6)\n",
    "```\n",
    "\n",
    "2. `remove(valor)`: Remove a primeira ocorrência do valor especificado na lista.\n",
    "```python\n",
    "my_list.remove(3)\n",
    "```\n",
    "\n",
    "3. `index(valor)`: Retorna o índice da primeira ocorrência do valor na lista.\n",
    "```python\n",
    "index = my_list.index(4)\n",
    "```\n",
    "\n",
    "4. `count(valor)`: Retorna o número de ocorrências do valor na lista.\n",
    "```python\n",
    "count = my_list.count(2)\n",
    "```\n",
    "\n",
    "Estes são apenas exemplos simples de métodos em Python. Cada tipo de objeto tem seus próprios métodos específicos que realizam tarefas relacionadas a esse tipo de objeto. A documentação oficial do Python é uma ótima fonte para aprender sobre os métodos disponíveis para diferentes tipos de objetos."
   ]
  },
  {
   "attachments": {},
   "cell_type": "markdown",
   "metadata": {},
   "source": [
    "# Identação.\n",
    "Em Python, a identação refere-se à maneira como você recua (indenta) o código para criar blocos de código. Em muitas outras linguagens de programação, como C++ ou Java, você usa chaves {} para definir blocos de código. No entanto, em Python, a identação é usada para indicar qual parte do código pertence a um bloco específico.\n",
    "Aqui está um exemplo:\n",
    "\n",
    "```python\n",
    "if idade >= 18:\n",
    "    print(\"Você é um adulto!\")\n",
    "else:\n",
    "    print(\"Você é menor de idade.\") \n",
    "```\n",
    "\n",
    "Neste exemplo, a identação é usada para definir o bloco de código que pertence ao if e ao else. O código dentro do bloco if será executado se a condição idade >= 18 for verdadeira, e o código dentro do bloco else será executado se a condição for falsa.\n",
    "\n",
    "Portanto, em resumo, em Python, a identação é a maneira de organizar e estruturar seu código, indicando quais partes do código pertencem a blocos específicos, como loops, condicionais, funções, entre outros. Certifique-se de manter a mesma quantidade de espaço em branco à esquerda para todos os elementos de um mesmo bloco. Isso ajuda o Python a entender a estrutura do seu código corretamente."
   ]
  },
  {
   "attachments": {},
   "cell_type": "markdown",
   "metadata": {},
   "source": [
    "# Condicionais\n",
    "Em Python, condicionais são estruturas de controle que permitem que o programa tome decisões com base em condições específicas. Elas permitem que você execute um bloco de código se uma determinada condição for verdadeira e outro bloco de código se essa condição for falsa. As condicionais mais comuns em Python são definidas usando as palavras-chave if, elif (abreviação de \"else if\") e else.\n",
    "\n",
    "Aqui está um exemplo básico de como as condicionais funcionam em Python:"
   ]
  },
  {
   "cell_type": "code",
   "execution_count": null,
   "metadata": {},
   "outputs": [],
   "source": [
    "idade = 18\n",
    "\n",
    "if idade >= 18:\n",
    "    print(\"Você é maior de idade.\")\n",
    "else:\n",
    "    print(\"Você é menor de idade.\")\n"
   ]
  },
  {
   "attachments": {},
   "cell_type": "markdown",
   "metadata": {},
   "source": [
    "Neste exemplo, o código verifica se a variável idade é maior ou igual a 18. Se a condição for verdadeira, o programa imprimirá \"Você é maior de idade.\" Caso contrário, imprimirá \"Você é menor de idade.\"\n",
    "\n",
    "Você também pode usar a cláusula elif para lidar com múltiplas condições. Aqui está um exemplo:"
   ]
  },
  {
   "cell_type": "code",
   "execution_count": null,
   "metadata": {},
   "outputs": [],
   "source": [
    "nota = 85\n",
    "\n",
    "if nota >= 90:\n",
    "    print(\"Nota A\")\n",
    "elif nota >= 80:\n",
    "    print(\"Nota B\")\n",
    "elif nota >= 70:\n",
    "    print(\"Nota C\")\n",
    "else:\n",
    "    print(\"Nota abaixo de C\")\n"
   ]
  },
  {
   "attachments": {},
   "cell_type": "markdown",
   "metadata": {},
   "source": [
    "## Condicoes simples\n",
    "Uma condição simples é uma estrutura de controle que envolve apenas um teste condicional. Isso significa que você está verificando apenas uma única condição e executando um bloco de código caso essa condição seja verdadeira. O bloco de código que deve ser executado está diretamente associado à condição única.\n",
    "\n",
    "Exemplo de uma condição simples em Python:\n"
   ]
  },
  {
   "cell_type": "code",
   "execution_count": null,
   "metadata": {},
   "outputs": [],
   "source": [
    "idade = 18\n",
    "if idade >= 18:\n",
    "    print(\"Você é maior de idade.\")"
   ]
  },
  {
   "attachments": {},
   "cell_type": "markdown",
   "metadata": {},
   "source": [
    "## Condicoes compostas\n",
    "Uma condição composta envolve vários testes condicionais, muitas vezes combinados usando as palavras-chave if, elif (abreviação de \"else if\") e else. Isso permite que você crie uma série de verificações sequenciais para lidar com diferentes cenários. Uma condição composta é útil quando você tem várias opções e quer decidir qual bloco de código deve ser executado dependendo de várias condições.\n",
    "\n",
    "Exemplo de uma condição composta em Python:"
   ]
  },
  {
   "attachments": {},
   "cell_type": "markdown",
   "metadata": {},
   "source": [
    "- if = se\n",
    "- else = senao\n",
    "- elif = senao se\n",
    "\n",
    "EXEMPLO:\n",
    "if carro.esquerda():\n",
    "    bloco True\n",
    "else:\n",
    "    bloco False"
   ]
  },
  {
   "cell_type": "code",
   "execution_count": null,
   "metadata": {},
   "outputs": [],
   "source": [
    "tempo = int(input('Quantos anos tem seu carro?'))\n",
    "if tempo <=3:\n",
    "    print('carro novo')\n",
    "else:\n",
    "    print('carro velho')"
   ]
  },
  {
   "cell_type": "code",
   "execution_count": null,
   "metadata": {},
   "outputs": [],
   "source": [
    "tempo = int(input('Quantos anos tem seu carro?'))\n",
    "print('carro novo' if tempo <=3 else 'carro velho')\n"
   ]
  },
  {
   "attachments": {},
   "cell_type": "markdown",
   "metadata": {},
   "source": [
    "## Condições Aninhadas\n"
   ]
  },
  {
   "attachments": {},
   "cell_type": "markdown",
   "metadata": {},
   "source": [
    "# Cores no Terminal?\n"
   ]
  },
  {
   "attachments": {},
   "cell_type": "markdown",
   "metadata": {},
   "source": [
    "O que é um codigo ANSI?\n",
    "\\033[(style) (text) (back)m\n",
    "\n",
    "\\033[0:33:44m\n",
    "\n",
    "##### Style\n",
    "0 - None\n",
    "1 - Bold\n",
    "4 - Underline\n",
    "7 - Negative\n",
    "\n",
    "##### Text\n",
    "30 Branco\n",
    "31 Vermelho\n",
    "32 Verde\n",
    "33 Amarelo\n",
    "34 Azul\n",
    "35 Roxo\n",
    "36 Ciano\n",
    "37 Cinza\n",
    "\n",
    "##### Back\n",
    "40 Branco\n",
    "41 vermelho\n",
    "42 verde\n",
    "43 amarelo\n",
    "44 azul\n",
    "45 roxo\n",
    "46 ciano\n",
    "47 cinza"
   ]
  },
  {
   "attachments": {},
   "cell_type": "markdown",
   "metadata": {},
   "source": [
    "Claro, vou transformar isso em uma tabela usando a sintaxe de markdown:\n",
    "\n",
    "| Style | Código | Texto     |\n",
    "|-------|--------|-----------|\n",
    "| 0     | None   | Branco    |\n",
    "| 1     | Bold   | Vermelho  |\n",
    "| 4     | Underline | Verde   |\n",
    "| 7     | Negative | Amarelo  |\n",
    "\n",
    "\n",
    "\n",
    "\n",
    "| Código | Back   | Texto     |\n",
    "|--------|--------|-----------|\n",
    "| 30     | Branco | Branco    |\n",
    "| 31     | Vermelho | Vermelho |\n",
    "| 32     | Verde  | Verde     |\n",
    "| 33     | Amarelo | Amarelo  |\n",
    "| 34     | Azul   | Azul      |\n",
    "| 35     | Roxo   | Roxo      |\n",
    "| 36     | Ciano  | Ciano     |\n",
    "| 37     | Cinza  | Cinza     |\n",
    "\n",
    "A tabela acima representa as informações fornecidas em um formato organizado."
   ]
  },
  {
   "attachments": {},
   "cell_type": "markdown",
   "metadata": {},
   "source": [
    "# Estruturas de Repetições\n",
    "laço = for\n",
    "in = no\n",
    "\n",
    "Exemplo:\n",
    "```python\n",
    "for c in range(1,10)\n",
    "    passo\n",
    "pega\n",
    "```\n"
   ]
  },
  {
   "attachments": {},
   "cell_type": "markdown",
   "metadata": {},
   "source": [
    "## Estrutura de repetição for\n",
    "É imporante notar que ele ignora o ultimo numero."
   ]
  },
  {
   "cell_type": "code",
   "execution_count": 4,
   "metadata": {},
   "outputs": [
    {
     "name": "stdout",
     "output_type": "stream",
     "text": [
      "1\n",
      "2\n",
      "3\n",
      "4\n",
      "5\n"
     ]
    }
   ],
   "source": [
    "for c in range(1, 6):\n",
    "    print(c)"
   ]
  },
  {
   "cell_type": "code",
   "execution_count": 3,
   "metadata": {},
   "outputs": [
    {
     "name": "stdout",
     "output_type": "stream",
     "text": [
      "Oi\n",
      "Oi\n",
      "Oi\n",
      "Oi\n",
      "Oi\n",
      "Oi\n",
      "Oi\n",
      "Oi\n",
      "Oi\n"
     ]
    }
   ],
   "source": [
    "for c in range(1,10):\n",
    "    print('Oi')"
   ]
  },
  {
   "attachments": {},
   "cell_type": "markdown",
   "metadata": {},
   "source": [
    "Varivel de Controle,\n",
    "Laço de Variavel de controle.\n",
    "Identacao."
   ]
  },
  {
   "cell_type": "code",
   "execution_count": 1,
   "metadata": {},
   "outputs": [
    {
     "name": "stdout",
     "output_type": "stream",
     "text": [
      "Eu gosto de maçã\n",
      "Eu gosto de banana\n",
      "Eu gosto de laranja\n",
      "Eu gosto de uva\n"
     ]
    }
   ],
   "source": [
    "frutas = [\"maçã\", \"banana\", \"laranja\", \"uva\"]\n",
    "\n",
    "for fruta in frutas:\n",
    "    print(\"Eu gosto de\", fruta)\n"
   ]
  },
  {
   "attachments": {},
   "cell_type": "markdown",
   "metadata": {},
   "source": [
    "## Estrutura de repetição while\n",
    "while = enquanto\n",
    "while not = enquanto NAO\n",
    "if = se\n",
    "\n",
    "```python\n",
    "while not x:\n",
    "    if x:\n",
    "        +1\n"
   ]
  },
  {
   "cell_type": "code",
   "execution_count": 7,
   "metadata": {},
   "outputs": [
    {
     "name": "stdout",
     "output_type": "stream",
     "text": [
      "1\n",
      "2\n",
      "3\n",
      "4\n",
      "5\n",
      "6\n",
      "7\n",
      "8\n",
      "9\n",
      "Fim\n"
     ]
    }
   ],
   "source": [
    "for c in range (1,10 ):\n",
    "    print(c)\n",
    "print('Fim')"
   ]
  },
  {
   "cell_type": "code",
   "execution_count": 6,
   "metadata": {},
   "outputs": [
    {
     "name": "stdout",
     "output_type": "stream",
     "text": [
      "1\n",
      "2\n",
      "3\n",
      "4\n",
      "5\n",
      "6\n",
      "7\n",
      "8\n",
      "9\n",
      "Fim\n"
     ]
    }
   ],
   "source": [
    "c = 1\n",
    "while c < 10:\n",
    "    print(c)\n",
    "    c = c + 1\n",
    "print('Fim')"
   ]
  },
  {
   "cell_type": "code",
   "execution_count": null,
   "metadata": {},
   "outputs": [],
   "source": [
    "c = 1\n",
    "data =\n",
    "data_18 = \n",
    "\n",
    "while "
   ]
  },
  {
   "attachments": {},
   "cell_type": "markdown",
   "metadata": {},
   "source": [
    "Claro! A função de repetição `while` em Python é utilizada para criar loops que executam um bloco de código repetidamente enquanto uma condição especificada for verdadeira. A estrutura básica do `while` é a seguinte:\n",
    "\n",
    "```python\n",
    "while condição:\n",
    "    # bloco de código a ser repetido enquanto a condição for verdadeira\n",
    "```\n",
    "\n",
    "Aqui está um exemplo completo que abrange todas as possibilidades da função `while`, juntamente com uma explicação detalhada para cada parte do código:\n",
    "\n",
    "```python\n",
    "# Vamos criar um programa que solicita ao usuário um número inteiro e, em seguida,\n",
    "# calcula a soma dos números inteiros de 1 até o número fornecido pelo usuário.\n",
    "\n",
    "# Passo 1: Solicitar um número inteiro ao usuário\n",
    "numero_fornecido = int(input(\"Digite um número inteiro: \"))\n",
    "\n",
    "# Passo 2: Inicializar variáveis para a soma e o contador\n",
    "soma = 0\n",
    "contador = 1\n",
    "\n",
    "# Passo 3: Criar um loop while com base na condição do contador\n",
    "while contador <= numero_fornecido:\n",
    "    # O bloco de código dentro do loop será executado enquanto a condição for verdadeira\n",
    "    \n",
    "    # Passo 4: Adicionar o valor do contador à soma\n",
    "    soma += contador\n",
    "    \n",
    "    # Passo 5: Incrementar o contador para prosseguir para o próximo número\n",
    "    contador += 1\n",
    "\n",
    "# Passo 6: Exibir o resultado da soma\n",
    "print(f\"A soma dos números de 1 até {numero_fornecido} é {soma}\")\n",
    "```\n",
    "\n",
    "Agora, vamos detalhar cada parte do código:\n",
    "\n",
    "1. **Solicitar um número inteiro ao usuário (`numero_fornecido`):** O programa começa pedindo ao usuário para digitar um número inteiro. A função `input()` é usada para receber a entrada do usuário, e `int()` é usada para converter a entrada em um número inteiro.\n",
    "\n",
    "2. **Inicializar variáveis (`soma` e `contador`):** Duas variáveis são criadas. `soma` será usada para acumular os valores dos números inteiros, e `contador` será usado para acompanhar qual número estamos atualmente somando.\n",
    "\n",
    "3. **Criar um loop while:** Aqui começa o loop `while`. Enquanto a condição `contador <= numero_fornecido` for verdadeira, o bloco de código dentro do loop será executado repetidamente.\n",
    "\n",
    "4. **Adicionar o valor do contador à soma:** Dentro do loop, o valor atual do `contador` é adicionado à variável `soma`.\n",
    "\n",
    "5. **Incrementar o contador:** O valor do `contador` é incrementado em 1 a cada iteração do loop, permitindo que o programa prossiga para o próximo número na sequência.\n",
    "\n",
    "6. **Exibir o resultado:** Após o loop ter terminado, ou seja, quando a condição `contador <= numero_fornecido` for falsa, o programa exibe a soma dos números inteiros de 1 até o número fornecido pelo usuário.\n",
    "\n",
    "Este exemplo abrange todas as fases de um loop `while` em Python: inicialização, condição, bloco de código dentro do loop e atualização. O loop continuará executando até que a condição especificada seja falsa."
   ]
  },
  {
   "cell_type": "markdown",
   "metadata": {},
   "source": [
    "### Interrompendo repetições while"
   ]
  },
  {
   "cell_type": "code",
   "execution_count": null,
   "metadata": {},
   "outputs": [],
   "source": []
  },
  {
   "attachments": {},
   "cell_type": "markdown",
   "metadata": {},
   "source": [
    "# Tuplas\n",
    "Uma tupla em Python é como uma lista, mas com uma diferença importante: as tuplas não podem ser modificadas depois de criadas. É como se você colocasse algumas coisas em uma caixa e fechasse a tampa bem forte. Você ainda pode ver o que está dentro, mas não pode adicionar, remover ou trocar nada.\n",
    "\n",
    "Pense em uma tupla como uma lista \"imutável\". Ela é ótima para armazenar informações que você não quer que sejam alteradas acidentalmente. Cada item em uma tupla é um \"elemento\", assim como na lista, mas você não pode fazer mudanças nesses elementos depois de criar a tupla.\n",
    "\n",
    "Por exemplo, se você tiver informações sobre uma pessoa, como nome e idade, e quiser ter certeza de que essas informações não mudem, você poderia usar uma tupla para armazená-las.\n",
    "\n",
    "Em resumo, uma tupla em Python é como uma lista que não pode ser alterada após ser criada. Ela é usada para armazenar dados que precisam ser mantidos constantes."
   ]
  },
  {
   "attachments": {},
   "cell_type": "markdown",
   "metadata": {},
   "source": [
    "# Listas"
   ]
  },
  {
   "cell_type": "markdown",
   "metadata": {},
   "source": [
    "### Dicionários"
   ]
  },
  {
   "attachments": {},
   "cell_type": "markdown",
   "metadata": {},
   "source": [
    "# Funçoes"
   ]
  },
  {
   "attachments": {},
   "cell_type": "markdown",
   "metadata": {},
   "source": [
    "# Módulos e Pacotes"
   ]
  },
  {
   "attachments": {},
   "cell_type": "markdown",
   "metadata": {},
   "source": [
    "# Tratamento de Erros e Exceções"
   ]
  },
  {
   "attachments": {},
   "cell_type": "markdown",
   "metadata": {},
   "source": [
    "# outros assuntos\n",
    "## Variaveis\n",
    "### Funcoes Build in Variaveis 1\n",
    "\n",
    "## Funcoes e Modulos\n",
    "\n",
    "## Tipos Primitivos\n",
    "### Funcoes Build in Primitivas\n",
    "#### String(str)\n",
    "#### Bolean(bolean)\n",
    "#### Integre\n",
    "#### Float (float) \n",
    "\n",
    "## Estrutura de Decisão\n",
    "\n",
    "## Estrutura de Repeticão\n",
    "\n",
    "## Formatação de String\n"
   ]
  }
 ],
 "metadata": {
  "kernelspec": {
   "display_name": "Python 3",
   "language": "python",
   "name": "python3"
  },
  "language_info": {
   "codemirror_mode": {
    "name": "ipython",
    "version": 3
   },
   "file_extension": ".py",
   "mimetype": "text/x-python",
   "name": "python",
   "nbconvert_exporter": "python",
   "pygments_lexer": "ipython3",
   "version": "3.11.1"
  },
  "orig_nbformat": 4
 },
 "nbformat": 4,
 "nbformat_minor": 2
}
